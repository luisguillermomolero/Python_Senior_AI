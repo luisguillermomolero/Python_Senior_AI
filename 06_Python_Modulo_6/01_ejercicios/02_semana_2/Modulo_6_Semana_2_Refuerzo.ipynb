{
 "cells": [
  {
   "cell_type": "markdown",
   "id": "6d04d2dc",
   "metadata": {},
   "source": [
    "###  2. Contenido teórico con diagramas, ejemplos e imágenes (Ampliado)\n",
    "\n",
    "####  ¿Qué es Pydantic?\n",
    "\n",
    "* Pydantic permite definir estructuras de datos claras, tipadas y con validaciones.\n",
    "* Se integra perfectamente con FastAPI.\n",
    "\n",
    "####  Diagrama de flujo de validación\n",
    "\n",
    "```plaintext\n",
    "        [Entrada JSON del cliente]\n",
    "                   ↓\n",
    "        [Modelo Pydantic con validaciones]\n",
    "                   ↓\n",
    "        [Objeto Python seguro]\n",
    "                   ↓\n",
    "       [Procesamiento y respuesta JSON]\n",
    "```\n"
   ]
  },
  {
   "cell_type": "markdown",
   "id": "e44b4cfe",
   "metadata": {},
   "source": [
    "####  Tipos de validaciones en Pydantic\n",
    "\n",
    "* Tipado estricto (`int`, `str`, `EmailStr`, `datetime`, etc.)\n",
    "* Validaciones por `Field`: `min_length`, `max_length`, `ge`, `le`\n",
    "* Validaciones personalizadas con `@validator`\n",
    "* Validaciones condicionales y modelos anidados\n",
    "\n"
   ]
  },
  {
   "cell_type": "markdown",
   "id": "536bf8c3",
   "metadata": {},
   "source": [
    "####  Recursos visuales de apoyo\n",
    "\n",
    "* Diagrama de clases (UML básico con atributos y restricciones)\n",
    "* Capturas de pantalla de FastAPI ejecutando y mostrando errores\n",
    "* Tabla comparativa de errores comunes\n",
    "\n"
   ]
  },
  {
   "cell_type": "markdown",
   "id": "58b1d8b1",
   "metadata": {},
   "source": [
    "###  3. Bloque de ejercicios con dificultad progresiva (Ampliado)\n",
    "\n",
    "####  Básico: `Usuario`\n",
    "\n",
    "Define un modelo con:\n",
    "\n",
    "* `id`: int\n",
    "* `nombre`: str (mínimo 3 caracteres)\n",
    "* `correo`: `EmailStr`\n",
    "\n",
    "####  Intermedio: `Evento`\n",
    "\n",
    "* Validar que la fecha esté en el futuro.\n",
    "* `tipo`: virtual/presencial\n",
    "* Si virtual, `url` debe ser obligatoria.\n",
    "\n",
    "####  Avanzado: `Reunión`\n",
    "\n",
    "* Modelo con participantes (lista de usuarios)\n",
    "* Validar que la reunión no tenga más de 10 personas.\n",
    "* Crear validación cruzada para evitar fechas duplicadas entre usuarios.\n"
   ]
  },
  {
   "cell_type": "code",
   "execution_count": null,
   "id": "cf5aa607",
   "metadata": {},
   "outputs": [],
   "source": [
    "from pydantic import root_validator\n",
    "\n",
    "class Reunion(BaseModel):\n",
    "    fecha: datetime\n",
    "    participantes: List[str]\n",
    "\n",
    "    @root_validator\n",
    "    def validar_participantes(cls, values):\n",
    "        if len(values['participantes']) > 10:\n",
    "            raise ValueError(\"No se permiten más de 10 participantes\")\n",
    "        return values\n"
   ]
  },
  {
   "cell_type": "markdown",
   "id": "f54a4da5",
   "metadata": {},
   "source": [
    "###  4. IA como cliente real (Simulación extendida)\n",
    "\n",
    "**Instrucción para estudiante**:\n",
    "\n",
    "> Simula que el asistente IA es un cliente y dile:\n",
    "> \"IA, describe qué funcionalidades necesitas en una app para gestionar clases virtuales.\"\n",
    "\n",
    "**Respuesta esperada de IA**:\n",
    "\n",
    "> Quiero crear clases, agregar estudiantes, saber quién asistió, y poner materiales.\n",
    "\n",
    "**Actividades**:\n",
    "\n",
    "* Extraer entidades (Clase, Estudiante, Material).\n",
    "* Generar modelos Pydantic.\n",
    "* Definir validaciones y restricciones por campo.\n",
    "\n"
   ]
  },
  {
   "cell_type": "markdown",
   "id": "2fb0218c",
   "metadata": {},
   "source": [
    "###  5. IA como usuario confundido (Simulación extendida)\n",
    "\n",
    "**Escenario 1**: Usuario envía tipos incorrectos\n",
    "\n",
    "```json\n",
    "{\n",
    "  \"titulo\": 10,\n",
    "  \"descripcion\": [\"Importante\"],\n",
    "  \"completado\": \"claro que sí\"\n",
    "}\n",
    "```\n",
    "\n",
    "**Reto**:\n",
    "\n",
    "* Detectar y corregir errores.\n",
    "* Personalizar el mensaje de error con `exception_handler`.\n",
    "* Mejorar mensajes para humanos no técnicos.\n",
    "\n",
    "**Escenario 2**: Usuario cree que `completado` es un número (1 o 0)\n",
    "\n",
    "**Mejora**: usar `StrictBool` para forzar booleans.\n",
    "\n"
   ]
  },
  {
   "cell_type": "code",
   "execution_count": null,
   "id": "ff039209",
   "metadata": {},
   "outputs": [],
   "source": [
    "from pydantic import StrictBool\n",
    "\n",
    "class Tarea(BaseModel):\n",
    "    completado: StrictBool\n"
   ]
  }
 ],
 "metadata": {
  "language_info": {
   "name": "python"
  }
 },
 "nbformat": 4,
 "nbformat_minor": 5
}
