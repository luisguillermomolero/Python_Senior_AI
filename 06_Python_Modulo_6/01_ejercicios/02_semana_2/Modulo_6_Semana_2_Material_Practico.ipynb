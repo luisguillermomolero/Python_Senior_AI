{
 "cells": [
  {
   "cell_type": "markdown",
   "id": "372e5418",
   "metadata": {},
   "source": [
    "###  1. Ejercicios resueltos durante la clase (Ampliado para 6 horas)\n",
    "\n",
    "####  Ejercicio 1: Modelo básico con `BaseModel`\n",
    "\n",
    "**Objetivo**: Comprender cómo se define un modelo básico con validaciones automáticas en Pydantic.\n",
    "\n"
   ]
  },
  {
   "cell_type": "code",
   "execution_count": null,
   "id": "4771da1c",
   "metadata": {},
   "outputs": [],
   "source": [
    "from pydantic import BaseModel\n",
    "\n",
    "class Tarea(BaseModel):\n",
    "    id: int\n",
    "    titulo: str\n",
    "    descripcion: str\n",
    "    completado: bool = False\n"
   ]
  },
  {
   "cell_type": "markdown",
   "id": "ffc9eda0",
   "metadata": {},
   "source": [
    "**Explicación**:\n",
    "\n",
    "* `BaseModel`: clase base de Pydantic.\n",
    "* Atributos tipados: Pydantic valida tipos automáticamente.\n",
    "* Valor por defecto: `completado = False`.\n"
   ]
  },
  {
   "cell_type": "markdown",
   "id": "dd348d53",
   "metadata": {},
   "source": [
    "####  Ejercicio 2: Validaciones con restricciones"
   ]
  },
  {
   "cell_type": "code",
   "execution_count": null,
   "id": "c35f6141",
   "metadata": {},
   "outputs": [],
   "source": [
    "from pydantic import BaseModel, Field\n",
    "\n",
    "class Tarea(BaseModel):\n",
    "    id: int\n",
    "    titulo: str = Field(..., min_length=5, max_length=100)\n",
    "    descripcion: str = Field(default=\"\", max_length=300)\n",
    "    completado: bool\n"
   ]
  },
  {
   "cell_type": "markdown",
   "id": "f2b1d042",
   "metadata": {},
   "source": [
    "**Validaciones**:\n",
    "\n",
    "* `min_length` y `max_length` en cadenas.\n",
    "* `...` obliga a que el campo sea requerido.\n",
    "\n"
   ]
  },
  {
   "cell_type": "markdown",
   "id": "b6b5a2af",
   "metadata": {},
   "source": [
    "####  Ejercicio 3: Respuesta personalizada con FastAPI"
   ]
  },
  {
   "cell_type": "code",
   "execution_count": null,
   "id": "440f47ab",
   "metadata": {},
   "outputs": [],
   "source": [
    "from fastapi import FastAPI\n",
    "from fastapi.responses import JSONResponse\n",
    "\n",
    "app = FastAPI()\n",
    "\n",
    "@app.post(\"/tareas\")\n",
    "def crear_tarea(tarea: Tarea):\n",
    "    return JSONResponse(\n",
    "        status_code=201,\n",
    "        content={\"mensaje\": \"Tarea creada exitosamente\", \"tarea\": tarea.dict()}\n",
    "    )\n"
   ]
  },
  {
   "cell_type": "markdown",
   "id": "536ffe81",
   "metadata": {},
   "source": [
    "####  Ejercicio 4: Validación condicional con `@validator`"
   ]
  },
  {
   "cell_type": "code",
   "execution_count": null,
   "id": "d34320c4",
   "metadata": {},
   "outputs": [],
   "source": [
    "from pydantic import validator\n",
    "from datetime import datetime\n",
    "\n",
    "class Evento(BaseModel):\n",
    "    nombre: str\n",
    "    fecha: datetime\n",
    "\n",
    "    @validator('fecha')\n",
    "    def fecha_no_pasada(cls, value):\n",
    "        if value < datetime.now():\n",
    "            raise ValueError(\"La fecha no puede estar en el pasado\")\n",
    "        return value\n"
   ]
  },
  {
   "cell_type": "markdown",
   "id": "660cb697",
   "metadata": {},
   "source": [
    "####  Ejercicio 5: Modelo anidado y reutilización"
   ]
  },
  {
   "cell_type": "code",
   "execution_count": null,
   "id": "52d18b98",
   "metadata": {},
   "outputs": [],
   "source": [
    "class Usuario(BaseModel):\n",
    "    nombre: str\n",
    "    correo: str\n",
    "\n",
    "class Comentario(BaseModel):\n",
    "    usuario: Usuario\n",
    "    mensaje: str\n"
   ]
  }
 ],
 "metadata": {
  "language_info": {
   "name": "python"
  }
 },
 "nbformat": 4,
 "nbformat_minor": 5
}
