{
 "cells": [
  {
   "cell_type": "markdown",
   "id": "4852b9c0",
   "metadata": {},
   "source": [
    "# Clase 1: Preparando el entorno profesional con Cursor IA y Visual Studio Code\n",
    "\n",
    "**Objetivos de aprendizaje:**\n",
    "\n",
    "* Instalar y configurar un entorno de desarrollo profesional.\n",
    "* Comprender el rol del programador profesional en la industria.\n",
    "* Iniciar el uso de Python aplicando buenas prácticas y seguridad desde el primer día.\n",
    "\n",
    "---\n"
   ]
  },
  {
   "cell_type": "markdown",
   "id": "9578a3be",
   "metadata": {},
   "source": [
    "## 1. Introducción al curso y visión del programador profesional \n",
    "\n",
    "### Contenido teórico\n",
    "\n",
    "1. **El rol del programador profesional:**\n",
    "\n",
    "   * Un programador profesional **no solo escribe código**, sino que **resuelve problemas reales** en empresas y organizaciones.\n",
    "   * En un entorno empresarial, se valoran:\n",
    "\n",
    "     * **Calidad del código** (legible, mantenible, escalable).\n",
    "     * **Seguridad del código** (sin vulnerabilidades).\n",
    "     * **Trabajo en equipo** (uso de Git/GitHub, estándares comunes).\n",
    "\n",
    "2. **Buenas prácticas internacionales desde el inicio:**\n",
    "\n",
    "   * **PEP 8** → guía de estilo oficial de Python (espaciado, nombres de variables, comentarios).\n",
    "   * **OWASP Secure Coding Practices** → proteger datos de entrada, no confiar en lo que ingresa el usuario.\n",
    "   * **Principios de desarrollo:**\n",
    "\n",
    "     * **DRY (Don’t Repeat Yourself):** no repetir código.\n",
    "     * **KISS (Keep It Simple, Stupid):** mantener el código lo más sencillo posible.\n",
    "     * **YAGNI (You Aren’t Gonna Need It):** no implementar cosas innecesarias.\n",
    "\n"
   ]
  },
  {
   "cell_type": "markdown",
   "id": "f3ccba25",
   "metadata": {},
   "source": [
    "### Ejemplo de reflexión:\n",
    "\n"
   ]
  },
  {
   "cell_type": "code",
   "execution_count": null,
   "id": "e47d1cda",
   "metadata": {},
   "outputs": [],
   "source": [
    "# Ejemplo de código \"aficionado\"\n",
    "a = input(\"Edad: \")\n",
    "if a.isdigit():\n",
    "    print(\"Tienes \" + a + \" años\")\n",
    "else:\n",
    "    print(\"Edad inválida\")\n"
   ]
  },
  {
   "cell_type": "markdown",
   "id": "c11811f3",
   "metadata": {},
   "source": [
    "\n",
    "```problema\n",
    "Problemas:\n",
    "- Nombre de variable poco descriptivo (a).\n",
    "- No hay documentación ni manejo robusto de errores.\n",
    "- No se aplican buenas prácticas de seguridad ni claridad.\n",
    "```\n"
   ]
  },
  {
   "cell_type": "code",
   "execution_count": null,
   "id": "fe589594",
   "metadata": {},
   "outputs": [],
   "source": [
    "# Ejemplo de código \"profesional\" (inicial)\n",
    "def validar_edad(edad: str) -> int | None:\n",
    "    \"\"\"\n",
    "    Valida que la edad ingresada sea un número entero positivo.\n",
    "    Retorna la edad como entero o None si no es válida.\n",
    "    \"\"\"\n",
    "    if edad.isdigit():\n",
    "        return int(edad)\n",
    "    return None\n",
    "\n",
    "entrada = input(\"Ingrese su edad: \")\n",
    "edad = validar_edad(entrada)\n",
    "\n",
    "if edad:\n",
    "    print(f\"Tienes {edad} años.\")\n",
    "else:\n",
    "    print(\"Error: ingrese un número válido.\")\n"
   ]
  },
  {
   "cell_type": "markdown",
   "id": "606e6ee5",
   "metadata": {},
   "source": [
    "✅ Diferencias:\n",
    "\n",
    "* Uso de función con documentación.\n",
    "* Tipado fuerte (`int | None`).\n",
    "* Validación de entrada segura.\n",
    "* Legibilidad y mantenibilidad.\n",
    "\n",
    "---\n"
   ]
  },
  {
   "cell_type": "markdown",
   "id": "df97515f",
   "metadata": {},
   "source": [
    "## 2. Instalación y configuración del entorno\n",
    "\n",
    "### Paso 1: Python con Anaconda\n",
    "\n",
    "* **¿Por qué Anaconda?**\n",
    "\n",
    "  * Simplifica instalación de Python.\n",
    "  * Facilita manejo de entornos virtuales (aislar proyectos).\n",
    "  * Incluye librerías científicas comunes.\n",
    "\n",
    "[Descargar Anaconda (sitio oficial)](https://www.anaconda.com/download)\n",
    "\n"
   ]
  },
  {
   "cell_type": "markdown",
   "id": "e430351f",
   "metadata": {},
   "source": [
    "#### Comandos básicos:\n",
    "\n",
    "```bash\n",
    "# Verificar versión de Python\n",
    "python --version\n",
    "\n"
   ]
  },
  {
   "cell_type": "markdown",
   "id": "ab681eb2",
   "metadata": {},
   "source": [
    "➡️ **Norma internacional:** nunca trabajar en el Python global del sistema → usar entornos virtuales (ISO/IEC 29110 recomienda entornos controlados para proyectos de software).\n",
    "\n",
    "---\n",
    "\n"
   ]
  },
  {
   "cell_type": "markdown",
   "id": "c41a74b4",
   "metadata": {},
   "source": [
    "### Paso 2: Visual Studio Code \n",
    "\n",
    "* **VS Code** es un editor multiplataforma ligero y flexible.\n",
    "\n",
    "  * [Visual Studio Code (System) (sitio oficial)](https://code.visualstudio.com/download)\n",
    "\n",
    "* **Extensiones recomendadas:**\n",
    "\n",
    "  * [Python Extension Pack (sitio oficial)](https://marketplace.visualstudio.com/items?itemName=donjayamanne.python-extension-pack)\n",
    "  * [Python Snippets 3 (sitio oficial)](https://marketplace.visualstudio.com/items?itemName=EricSia.pythonsnippets3)\n",
    "  * [Python Path (sitio oficial)](https://marketplace.visualstudio.com/items?itemName=mgesbert.python-path)\n",
    "  * [Python Debugger (sitio oficial)](https://marketplace.visualstudio.com/items?itemName=ms-python.debugpy)\n",
    "  * [Python Notbook (sitio oficial)](https://marketplace.visualstudio.com/items?itemName=ms-toolsai.jupyter)\n",
    "\n"
   ]
  },
  {
   "cell_type": "markdown",
   "id": "7f6b04aa",
   "metadata": {},
   "source": [
    "➡️ **Buenas prácticas:** usar formateadores automáticos evita discusiones de estilo en equipos (aplicado en empresas de talla mundial como Google o Microsoft).\n",
    "\n",
    "---\n"
   ]
  },
  {
   "cell_type": "markdown",
   "id": "a50db75b",
   "metadata": {},
   "source": [
    "### Paso 3: Git + GitHub\n",
    "\n",
    "* **Git** permite control de versiones local.\n",
    "\n",
    "  * [Git (sitio oficial)](https://git-scm.com/downloads)\n",
    "\n",
    "\n",
    "\n",
    "* **GitHub** → repositorio remoto para trabajo colaborativo.\n",
    "\n",
    "    * [GitHub (sitio oficial)](https://github.com/)\n",
    "\n",
    "* **Extensiones recomendadas:**\n",
    "\n",
    "    * [Git Extension Pack (sitio oficial)](https://marketplace.visualstudio.com/items?itemName=donjayamanne.git-extension-pack/)\n"
   ]
  },
  {
   "cell_type": "markdown",
   "id": "bda555ca",
   "metadata": {},
   "source": [
    "#### Configuración inicial:\n",
    "\n",
    "```bash\n",
    "git config --global user.name \"Tu Nombre\"\n",
    "git config --global user.email \"tu@email.com\"\n",
    "```\n",
    "\n"
   ]
  },
  {
   "cell_type": "markdown",
   "id": "c1718067",
   "metadata": {},
   "source": [
    "➡️ **Norma internacional:** ISO/IEC 12207 recomienda mantener trazabilidad de versiones. Git y GitHub cumplen este estándar de manera práctica.\n",
    "\n",
    "---\n"
   ]
  },
  {
   "cell_type": "markdown",
   "id": "fba03535",
   "metadata": {},
   "source": [
    "### Mini práctica\n",
    "\n",
    "* Estudiantes ejecutan `print(\"Hola Mundo\")` en VS Code usando su entorno.\n",
    "* Guardan y suben el archivo a GitHub.\n",
    "\n",
    "---\n"
   ]
  },
  {
   "cell_type": "markdown",
   "id": "f2f9e25a",
   "metadata": {},
   "source": [
    "## 3. Primera ejecución de scripts en VS Code\n",
    "\n",
    "### Explicación\n",
    "\n",
    "* Un **script en Python** es un archivo `.py` con instrucciones secuenciales.\n",
    "* **Buenas prácticas:**\n",
    "\n",
    "  * Siempre incluir **comentarios** o **docstrings** al inicio.\n",
    "  * Nombres descriptivos de variables.\n",
    "  * Manejo de entradas del usuario con validación.\n",
    "\n",
    "### Ejemplo:\n",
    "\n"
   ]
  },
  {
   "cell_type": "code",
   "execution_count": null,
   "id": "6c2eca56",
   "metadata": {},
   "outputs": [],
   "source": [
    "\"\"\"\n",
    "Autor: Estudiante\n",
    "Fecha: 30/09/2025\n",
    "Descripción: Primer script en Python con saludo personalizado.\n",
    "\"\"\"\n",
    "\n",
    "nombre = input(\"¿Cuál es tu nombre? \")\n",
    "print(f\"Hola {nombre}, bienvenido al curso de Python profesional 🚀\")\n"
   ]
  },
  {
   "cell_type": "markdown",
   "id": "b5f7cd8b",
   "metadata": {},
   "source": [
    "---\n",
    "\n",
    "## 4. Taller guiado: entrada, impresión y comentarios\n",
    "\n",
    "### Ejercicio 1: pedir edad y clasificar\n",
    "\n"
   ]
  },
  {
   "cell_type": "code",
   "execution_count": null,
   "id": "7b534f75",
   "metadata": {},
   "outputs": [],
   "source": [
    "\"\"\"\n",
    "Script que clasifica a una persona según su edad.\n",
    "Cumple con las normas PEP8 y OWASP (validación de entrada).\n",
    "\"\"\"\n",
    "\n",
    "edad_str = input(\"Ingrese su edad: \")\n",
    "\n",
    "if edad_str.isdigit():\n",
    "    edad = int(edad_str)\n",
    "    if edad < 18:\n",
    "        print(\"Eres menor de edad.\")\n",
    "    elif edad < 65:\n",
    "        print(\"Eres adulto.\")\n",
    "    else:\n",
    "        print(\"Eres adulto mayor.\")\n",
    "else:\n",
    "    print(\"Error: la edad debe ser un número.\")\n"
   ]
  },
  {
   "cell_type": "markdown",
   "id": "b44473ed",
   "metadata": {},
   "source": [
    "➡️ **Buenas prácticas de seguridad:** nunca asumir que la entrada del usuario es válida."
   ]
  },
  {
   "cell_type": "markdown",
   "id": "28e389c0",
   "metadata": {},
   "source": [
    "---\n",
    "\n",
    "## 5. Proyecto en clase\n",
    "\n",
    "### Enunciado\n",
    "\n",
    "Crear `bienvenida.py` con:\n",
    "\n",
    "1. Solicitar nombre y edad.\n",
    "2. Validar que la edad sea un número positivo.\n",
    "3. Mostrar saludo personalizado.\n",
    "4. Usar Cursor IA para sugerir mejoras (ej. modularización).\n",
    "5. Subir el script a GitHub.\n",
    "\n",
    "### Versión inicial\n",
    "\n"
   ]
  },
  {
   "cell_type": "code",
   "execution_count": null,
   "id": "ba0205ab",
   "metadata": {},
   "outputs": [],
   "source": [
    "nombre = input(\"Ingresa tu nombre: \")\n",
    "edad = input(\"Ingresa tu edad: \")\n",
    "\n",
    "if edad.isdigit():\n",
    "    print(f\"Hola {nombre}, tienes {edad} años. ¡Bienvenido!\")\n",
    "else:\n",
    "    print(\"Error: la edad debe ser un número válido.\")\n"
   ]
  },
  {
   "cell_type": "markdown",
   "id": "0d13394a",
   "metadata": {},
   "source": [
    "### Versión mejorada con función y tipado\n",
    "\n"
   ]
  },
  {
   "cell_type": "code",
   "execution_count": null,
   "id": "b6fc60d6",
   "metadata": {},
   "outputs": [],
   "source": [
    "def validar_edad(edad: str) -> int | None:\n",
    "    \"\"\"\n",
    "    Valida que la edad sea un número entero positivo.\n",
    "    Retorna un entero si es válido, None en caso contrario.\n",
    "    \"\"\"\n",
    "    if edad.isdigit():\n",
    "        edad_num = int(edad)\n",
    "        if edad_num > 0:\n",
    "            return edad_num\n",
    "    return None\n",
    "\n",
    "def main() -> None:\n",
    "    \"\"\"Función principal del script.\"\"\"\n",
    "    nombre = input(\"Ingrese su nombre: \")\n",
    "    edad = validar_edad(input(\"Ingrese su edad: \"))\n",
    "\n",
    "    if edad:\n",
    "        print(f\"Hola {nombre}, tienes {edad} años. ¡Bienvenido al curso 🚀!\")\n",
    "    else:\n",
    "        print(\"Error: ingrese una edad válida (número positivo).\")\n",
    "\n",
    "if __name__ == \"__main__\":\n",
    "    main()\n"
   ]
  },
  {
   "cell_type": "markdown",
   "id": "c7918968",
   "metadata": {},
   "source": [
    "✅ Mejora profesional:\n",
    "\n",
    "* Función `main()` → práctica estándar en Python.\n",
    "* Tipado de funciones.\n",
    "* Documentación clara.\n",
    "* Validación de seguridad.\n",
    "\n",
    "---\n"
   ]
  },
  {
   "cell_type": "markdown",
   "id": "240b75de",
   "metadata": {},
   "source": [
    "* **Tarea:**\n",
    "\n",
    "  * Crear un script que solicite **nombre, edad y ciudad**.\n",
    "  * Validar cada entrada con funciones.\n",
    "  * Subirlo a GitHub en un repositorio personal.\n",
    "\n",
    "---\n"
   ]
  }
 ],
 "metadata": {
  "kernelspec": {
   "display_name": "base",
   "language": "python",
   "name": "python3"
  },
  "language_info": {
   "codemirror_mode": {
    "name": "ipython",
    "version": 3
   },
   "file_extension": ".py",
   "mimetype": "text/x-python",
   "name": "python",
   "nbconvert_exporter": "python",
   "pygments_lexer": "ipython3",
   "version": "3.13.5"
  }
 },
 "nbformat": 4,
 "nbformat_minor": 5
}
