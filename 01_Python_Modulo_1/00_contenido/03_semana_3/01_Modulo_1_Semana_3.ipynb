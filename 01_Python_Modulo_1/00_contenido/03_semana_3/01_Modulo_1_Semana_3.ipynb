{
 "cells": [
  {
   "cell_type": "markdown",
   "id": "31efa75f",
   "metadata": {
    "id": "31efa75f"
   },
   "source": [
    "# CLASE 5: Estructuras de Control de Flujo (Condicionales y Bucles)\n",
    "\n",
    "## **Objetivos de aprendizaje**\n",
    "\n",
    "Al finalizar esta clase, el estudiante será capaz de:\n",
    "\n",
    "1. Aplicar estructuras condicionales (`if`, `elif`, `else`) para la toma de decisiones.\n",
    "2. Utilizar bucles (`while`, `for`) para ejecutar procesos repetitivos controlados.\n",
    "3. Implementar validaciones y flujos de lógica que simulen problemas reales.\n",
    "4. Escribir código limpio, comentado y legible, aplicando normas internacionales de calidad y seguridad.\n",
    "5. Desarrollar programas modulares con control de flujo y manejo adecuado de errores lógicos.\n",
    "\n",
    "---\n"
   ]
  },
  {
   "cell_type": "markdown",
   "id": "84d115af",
   "metadata": {
    "id": "84d115af"
   },
   "source": [
    "## **Contenidos**\n",
    "\n",
    "### 1. Introducción a las estructuras de control\n",
    "\n",
    "* Las estructuras de control permiten que un programa **decida o repita acciones** según condiciones.\n",
    "* Tipos:\n",
    "\n",
    "  * **Condicionales:** ejecutan bloques de código dependiendo de una condición.\n",
    "  * **Bucles:** repiten un bloque mientras se cumpla una condición o durante un número determinado de iteraciones.\n",
    "\n",
    "---\n"
   ]
  },
  {
   "cell_type": "markdown",
   "id": "4a55d262",
   "metadata": {
    "id": "4a55d262"
   },
   "source": [
    "### 2. Condicionales: `if`, `elif`, `else`\n",
    "\n",
    "#### Teoría\n",
    "\n",
    "En Python, las condiciones se evalúan como **verdaderas (True)** o **falsas (False)**.\n",
    "La sintaxis básica es:\n",
    "\n",
    "```python\n",
    "if condicion:\n",
    "    # Código si la condición es verdadera\n",
    "elif otra_condicion:\n",
    "    # Código si la primera condición fue falsa, pero esta es verdadera\n",
    "else:\n",
    "    # Código si ninguna condición anterior fue verdadera\n",
    "```\n",
    "\n",
    "\n",
    "**Ejemplo didáctico** Clasificador de temperatura\n",
    "Necesitamos desarrollar un programa que **solicite al usuario una temperatura** (en grados Celsius) y mostrar un mensaje dependiendo del rango:\n",
    "\n",
    "* Menor a 0 → “Hace mucho frío”\n",
    "* Entre 0 y 20 → “Clima fresco”\n",
    "* Entre 21 y 30 → “Clima agradable”\n",
    "* Mayor a 30 → “Hace calor”\n",
    "\n",
    "---\n"
   ]
  },
  {
   "cell_type": "code",
   "execution_count": null,
   "id": "f476cefb",
   "metadata": {
    "id": "f476cefb"
   },
   "outputs": [],
   "source": [
    "\"\"\"\n",
    "Programa: Clasificador de temperatura\n",
    "Propósito: Demostrar el uso de if, elif, else\n",
    "Autor: Profesor de Python\n",
    "Buenas prácticas:\n",
    " - Código legible y comentado\n",
    "\"\"\"\n",
    "\n",
    "# Solicitar la temperatura al usuario\n",
    "temperatura = int(input(\"Ingrese la temperatura en grados Celsius: \"))\n",
    "\n",
    "if temperatura < 0:\n",
    "    print(f\"La temperatura es {temperatura}°C → Hace mucho frío\")\n",
    "elif temperatura <= 20:\n",
    "    print(f\"La temperatura es {temperatura}°C → Clima fresco\")\n",
    "elif temperatura <= 30:\n",
    "    print(f\"La temperatura es {temperatura}°C → Clima agradable\")\n",
    "else:\n",
    "    print(f\"La temperatura es {temperatura}°C → Hace calor\")\n"
   ]
  },
  {
   "cell_type": "markdown",
   "id": "c98801e1",
   "metadata": {
    "id": "c98801e1"
   },
   "source": [
    "Código mejorado"
   ]
  },
  {
   "cell_type": "code",
   "execution_count": null,
   "id": "dc36165d",
   "metadata": {
    "id": "dc36165d"
   },
   "outputs": [],
   "source": [
    "\"\"\"\n",
    "Programa: Clasificador de temperatura\n",
    "Propósito: Demostrar el uso de if, elif, else\n",
    "Autor: Profesor de Python\n",
    "Buenas prácticas:\n",
    " - Código legible y comentado\n",
    " - Validación de entrada del usuario\n",
    " - Uso de f-strings\n",
    "\"\"\"\n",
    "\n",
    "# Solicitar la temperatura al usuario\n",
    "entrada = input(\"Ingrese la temperatura en grados Celsius: \")\n",
    "\n",
    "# Validar que la entrada sea un número (buena práctica)\n",
    "if not entrada.replace('.', '', 1).isdigit():\n",
    "    print(\"⚠️ Error: debe ingresar un número válido.\")\n",
    "else:\n",
    "    temperatura = float(entrada)  # Conversión segura\n",
    "\n",
    "    # Estructura de decisión\n",
    "    if temperatura < 0:\n",
    "        print(f\"La temperatura es {temperatura}°C → Hace mucho frío ❄️\")\n",
    "    elif temperatura <= 20:\n",
    "        print(f\"La temperatura es {temperatura}°C → Clima fresco 🌤️\")\n",
    "    elif temperatura <= 30:\n",
    "        print(f\"La temperatura es {temperatura}°C → Clima agradable ☀️\")\n",
    "    else:\n",
    "        print(f\"La temperatura es {temperatura}°C → Hace calor 🔥\")\n"
   ]
  },
  {
   "cell_type": "markdown",
   "id": "f510e370",
   "metadata": {
    "id": "f510e370"
   },
   "source": [
    "#### Ejemplo 2: Validar edad para ingresar a un evento\n",
    "\n"
   ]
  },
  {
   "cell_type": "code",
   "execution_count": null,
   "id": "fc8d53d1",
   "metadata": {
    "id": "fc8d53d1"
   },
   "outputs": [],
   "source": [
    "# Ejemplo: Validar edad de ingreso\n",
    "edad = int(input(\"Ingrese su edad: \"))\n",
    "\n",
    "if edad >= 18:\n",
    "    print(\"Bienvenido, puede ingresar al evento.\")\n",
    "elif edad >= 13:\n",
    "    print(\"Puede ingresar con acompañante adulto.\")\n",
    "else:\n",
    "    print(\"No tiene la edad suficiente para ingresar.\")\n"
   ]
  },
  {
   "cell_type": "markdown",
   "id": "10fb9473",
   "metadata": {
    "id": "10fb9473"
   },
   "source": [
    "# Ejercicios con `if`, `elif`, `else`\n",
    "\n",
    "---\n"
   ]
  },
  {
   "cell_type": "markdown",
   "id": "ceec6acd",
   "metadata": {
    "id": "ceec6acd"
   },
   "source": [
    "### **1. Número positivo, negativo o cero**\n",
    "\n",
    "**Descripción:**\n",
    "Solicitar un número e indicar si es positivo, negativo o cero.\n",
    "\n"
   ]
  },
  {
   "cell_type": "code",
   "execution_count": null,
   "id": "5ebfd99f",
   "metadata": {
    "id": "5ebfd99f"
   },
   "outputs": [],
   "source": [
    "numero = float(input(\"Ingrese un número: \"))\n",
    "\n",
    "if numero > 0:\n",
    "    print(\"El número es positivo\")\n",
    "elif numero < 0:\n",
    "    print(\"El número es negativo\")\n",
    "else:\n",
    "    print(\"El número es cero\")\n"
   ]
  },
  {
   "cell_type": "markdown",
   "id": "3e9cd296",
   "metadata": {
    "id": "3e9cd296"
   },
   "source": [
    "---\n",
    "\n",
    "### **2. Clasificador de notas**\n",
    "\n",
    "**Descripción:**\n",
    "El usuario ingresa una nota de 0 a 100. Mostrar el nivel académico según el puntaje.\n",
    "\n",
    "| Rango  | Mensaje      |\n",
    "| ------ | ------------ |\n",
    "| 90–100 | Excelente |\n",
    "| 70–89  | Aprobado   |\n",
    "| 0–69   | Reprobado  |\n",
    "\n"
   ]
  },
  {
   "cell_type": "code",
   "execution_count": null,
   "id": "2a691207",
   "metadata": {
    "id": "2a691207"
   },
   "outputs": [],
   "source": [
    "nota = float(input(\"Ingrese su nota (0 a 100): \"))\n",
    "\n",
    "if nota >= 90:\n",
    "    print(\"Excelente\")\n",
    "elif nota >= 70:\n",
    "    print(\"Aprobado\")\n",
    "else:\n",
    "    print(\"Reprobado\")\n"
   ]
  },
  {
   "cell_type": "markdown",
   "id": "8ae54e7a",
   "metadata": {
    "id": "8ae54e7a"
   },
   "source": [
    "---\n",
    "\n",
    "### **3. Clasificador de edad**\n",
    "\n",
    "**Descripción:**\n",
    "Pedir la edad del usuario y clasificarla en rangos.\n",
    "\n",
    "| Rango | Mensaje         |\n",
    "| ----- | --------------- |\n",
    "| 0–12  | Niño         |\n",
    "| 13–17 | Adolescente  |\n",
    "| 18–59 | Adulto       |\n",
    "| 60+   | Adulto mayor |\n",
    "\n"
   ]
  },
  {
   "cell_type": "code",
   "execution_count": null,
   "id": "1b4ef7d4",
   "metadata": {
    "id": "1b4ef7d4"
   },
   "outputs": [],
   "source": [
    "edad = int(input(\"Ingrese su edad: \"))\n",
    "\n",
    "if edad < 13:\n",
    "    print(\"Eres un niño\")\n",
    "elif edad < 18:\n",
    "    print(\"Eres un adolescente\")\n",
    "elif edad < 60:\n",
    "    print(\"Eres un adulto\")\n",
    "else:\n",
    "    print(\"Eres un adulto mayor\")\n"
   ]
  },
  {
   "cell_type": "markdown",
   "id": "faee37f7",
   "metadata": {
    "id": "faee37f7"
   },
   "source": [
    "---\n",
    "\n",
    "### **4. Determinar si un número es par o impar**\n",
    "\n"
   ]
  },
  {
   "cell_type": "code",
   "execution_count": null,
   "id": "b5b854d8",
   "metadata": {
    "id": "b5b854d8"
   },
   "outputs": [],
   "source": [
    "numero = int(input(\"Ingrese un número entero: \"))\n",
    "\n",
    "if numero % 2 == 0:\n",
    "    print(f\"{numero} es un número par\")\n",
    "else:\n",
    "    print(f\"{numero} es un número impar\")\n"
   ]
  },
  {
   "cell_type": "markdown",
   "id": "e25de714",
   "metadata": {
    "id": "e25de714"
   },
   "source": [
    "---\n",
    "\n",
    "### **5. Verificar hora del día**\n",
    "\n",
    "**Descripción:**\n",
    "Pedir la hora (0 a 23) e indicar si es mañana, tarde o noche.\n",
    "\n"
   ]
  },
  {
   "cell_type": "code",
   "execution_count": null,
   "id": "2cf42cbf",
   "metadata": {
    "id": "2cf42cbf"
   },
   "outputs": [],
   "source": [
    "while True:\n",
    "    entrada = input(\"Ingrese la hora (0–23): \")\n",
    "\n",
    "    # Verifica que el valor ingresado sea un número\n",
    "    if entrada.isdigit():\n",
    "        hora = int(entrada)\n",
    "\n",
    "        # Usa operadores lógicos para validar el rango\n",
    "        if hora >= 0 and hora <= 23:\n",
    "            break\n",
    "    else:\n",
    "        print(\"Error: la hora debe estar entre 0 y 23.\")\n",
    "\n",
    "\n",
    "# Clasificación del momento del día usando and / or\n",
    "if hora >= 0 and hora < 12:\n",
    "    momento = \"mañana\"\n",
    "elif hora >= 12 and hora < 18:\n",
    "    momento = \"tarde\"\n",
    "elif hora >= 18 and hora <= 23:\n",
    "    momento = \"noche\"\n",
    "else:\n",
    "    # Este caso no debería ocurrir debido a la validación anterior,\n",
    "    # pero se incluye por seguridad\n",
    "    momento = \"hora inválida\"\n",
    "\n",
    "# Mostrar el resultado formateado\n",
    "print(f\"Son las {hora:02d}:00 horas, es de {momento}.\")\n",
    "\n"
   ]
  },
  {
   "cell_type": "markdown",
   "id": "ea37dee7",
   "metadata": {
    "id": "ea37dee7"
   },
   "source": [
    "---\n",
    "### **6. Calculadora de descuentos**\n",
    "\n",
    "**Descripción:**\n",
    "El usuario ingresa el valor de una compra.\n",
    "Aplicar descuentos según la tabla:\n",
    "\n",
    "| Monto         | Descuento |\n",
    "| ------------- | --------- |\n",
    "| ≥ 500000      | 20%       |\n",
    "| 200000–499999 | 10%       |\n",
    "| < 200000      | 0%        |\n",
    "\n"
   ]
  },
  {
   "cell_type": "code",
   "execution_count": null,
   "id": "7d573d98",
   "metadata": {
    "id": "7d573d98"
   },
   "outputs": [],
   "source": [
    "# Solicitar el valor de la compra\n",
    "compra = float(input(\"Ingrese el valor de su compra: \"))\n",
    "\n",
    "# Determinar el descuento usando operadores lógicos\n",
    "if compra >= 500000:\n",
    "    descuento = 0.20\n",
    "elif compra >= 200000 and compra < 500000:\n",
    "    descuento = 0.10\n",
    "else:\n",
    "    descuento = 0.0\n",
    "\n",
    "# Calcular el valor final\n",
    "valor_final = compra * (1 - descuento)\n",
    "\n",
    "# Mostrar resultados\n",
    "print(f\"Descuento aplicado: {descuento * 100:.0f}%\")\n",
    "print(f\"Total a pagar: ${valor_final:,.2f}\")\n"
   ]
  },
  {
   "cell_type": "markdown",
   "id": "74a7bda4",
   "metadata": {
    "id": "74a7bda4"
   },
   "source": [
    "---\n",
    "\n",
    "### **7. Evaluador de presión arterial**\n",
    "\n",
    "**Descripción:**\n",
    "Ingresar la presión sistólica y diastólica, y clasificar el resultado.\n",
    "\n",
    "| Condición                         | Mensaje |\n",
    "| --------------------------------- | ------- |\n",
    "| Sistólica < 90 o Diastólica < 60  | Baja    |\n",
    "| Sistólica ≤ 120 y Diastólica ≤ 80 | Normal  |\n",
    "| Sistólica > 120 o Diastólica > 80 | Alta    |\n",
    "\n"
   ]
  },
  {
   "cell_type": "code",
   "execution_count": null,
   "id": "mqvl-E2zyJAo",
   "metadata": {
    "id": "mqvl-E2zyJAo"
   },
   "outputs": [],
   "source": [
    "# Validación de entrada para presión arterial\n",
    "\n",
    "while True:\n",
    "    try:\n",
    "        sistolica = int(input(\"Ingrese su presión sistólica (mmHg): \"))\n",
    "        diastolica = int(input(\"Ingrese su presión diastólica (mmHg): \"))\n",
    "\n",
    "        # Validar que los valores sean positivos y estén en un rango lógico\n",
    "        if sistolica <= 0 or diastolica <= 0:\n",
    "            print(\"Los valores deben ser positivos. Intente de nuevo.\\n\")\n",
    "            continue\n",
    "        if sistolica > 300 or diastolica > 200:\n",
    "            print(\"Valores fuera de rango fisiológico. Verifique e intente de nuevo.\\n\")\n",
    "            continue\n",
    "        break  # Sale del bucle si los valores son válidos\n",
    "\n",
    "    except ValueError:\n",
    "        print(\"Entrada no válida. Ingrese solo números enteros.\\n\")\n",
    "\n",
    "# Clasificación de la presión arterial usando operadores lógicos\n",
    "if sistolica < 90 or diastolica < 60:\n",
    "    print(\"Presión baja\")\n",
    "elif sistolica <= 120 and diastolica <= 80:\n",
    "    print(\"Presión normal\")\n",
    "else:\n",
    "    print(\"Presión alta\")\n"
   ]
  },
  {
   "cell_type": "markdown",
   "id": "45ac02b3",
   "metadata": {
    "id": "45ac02b3"
   },
   "source": [
    "---\n",
    "\n",
    "### **8. Verificador de velocidad**\n",
    "\n",
    "**Descripción:**\n",
    "Pedir la velocidad de un vehículo y mostrar el estado.\n",
    "\n",
    "| Velocidad (km/h) | Estado                 |\n",
    "| ---------------- | ---------------------- |\n",
    "| 0                | Detenido            |\n",
    "| 1–60             | Velocidad normal    |\n",
    "| 61–120           | Rápido               |\n",
    "| >120             | Exceso de velocidad |\n",
    "\n"
   ]
  },
  {
   "cell_type": "code",
   "execution_count": null,
   "id": "13ac980b",
   "metadata": {
    "id": "13ac980b"
   },
   "outputs": [],
   "source": [
    "# Validación de entrada para la velocidad del vehículo\n",
    "\n",
    "while True:\n",
    "    try:\n",
    "        velocidad = float(input(\"Ingrese la velocidad del vehículo (km/h): \"))\n",
    "\n",
    "        # Validar que la velocidad no sea negativa ni absurda\n",
    "        if velocidad < 0:\n",
    "            print(\"La velocidad no puede ser negativa. Intente de nuevo.\\n\")\n",
    "            continue\n",
    "        if velocidad > 400:\n",
    "            print(\"Velocidad fuera de rango razonable. Verifique e intente de nuevo.\\n\")\n",
    "            continue\n",
    "        break  # Sale del bucle si la entrada es válida\n",
    "\n",
    "    except ValueError:\n",
    "        print(\"Entrada no válida. Ingrese un número.\\n\")\n",
    "\n",
    "# Clasificación usando operadores lógicos\n",
    "if velocidad == 0:\n",
    "    print(\"El vehículo está detenido\")\n",
    "elif velocidad > 0 and velocidad <= 60:\n",
    "    print(\"Velocidad normal\")\n",
    "elif velocidad > 60 and velocidad <= 120:\n",
    "    print(\"Vas rápido\")\n",
    "else:\n",
    "    print(\"¡Exceso de velocidad!\")\n",
    "\n"
   ]
  },
  {
   "cell_type": "markdown",
   "id": "b818e1d7",
   "metadata": {
    "id": "b818e1d7"
   },
   "source": [
    "---\n",
    "\n",
    "### **9. Cálculo de impuesto según salario**\n",
    "\n",
    "**Descripción:**\n",
    "El usuario ingresa su salario mensual. Se aplica impuesto según rango:\n",
    "\n",
    "| Rango               | Impuesto |\n",
    "| ------------------- | -------- |\n",
    "| ≤ 2.000.000         | 0%       |\n",
    "| 2.000.001–5.000.000 | 10%      |\n",
    "| > 5.000.000         | 20%      |\n",
    "\n"
   ]
  },
  {
   "cell_type": "code",
   "execution_count": null,
   "id": "8nUr3LbryjcG",
   "metadata": {
    "id": "8nUr3LbryjcG"
   },
   "outputs": [],
   "source": [
    "try:\n",
    "    salario = float(input(\"Ingrese su salario mensual: \"))\n",
    "\n",
    "    if salario < 0:\n",
    "        print(\"El salario no puede ser negativo.\")\n",
    "    elif salario == 0:\n",
    "        print(\"No se puede calcular impuesto sobre un salario de $0.\")\n",
    "    elif salario <= 2000000:\n",
    "        impuesto = 0\n",
    "        print(\"Está exento de impuesto.\")\n",
    "        print(f\"Impuesto a pagar: ${impuesto:,.2f}\")\n",
    "    elif salario > 2000000 and salario <= 5000000:\n",
    "        impuesto = salario * 0.10\n",
    "        print(f\"Impuesto a pagar: ${impuesto:,.2f}\")\n",
    "    elif salario > 5000000:\n",
    "        impuesto = salario * 0.20\n",
    "        print(f\"Impuesto a pagar: ${impuesto:,.2f}\")\n",
    "\n",
    "except ValueError:\n",
    "    print(\"Entrada no válida. Debe ingresar un número.\")\n"
   ]
  },
  {
   "cell_type": "markdown",
   "id": "5c35b9ae",
   "metadata": {
    "id": "5c35b9ae"
   },
   "source": [
    "### **10. Evaluador de desempeño académico**\n",
    "\n",
    "**Descripción:**\n",
    "El usuario ingresa la calificación promedio (0–5). Mostrar la valoración.\n",
    "\n",
    "| Promedio | Desempeño        |\n",
    "| -------- | ---------------- |\n",
    "| 0–2.9    | Insuficiente   |\n",
    "| 3.0–3.9  | Aceptable     |\n",
    "| 4.0–4.6  | Sobresaliente |\n",
    "| 4.7–5.0  | Excelente     |\n",
    "\n"
   ]
  },
  {
   "cell_type": "code",
   "execution_count": 14,
   "id": "eaee61ad",
   "metadata": {
    "colab": {
     "base_uri": "https://localhost:8080/"
    },
    "executionInfo": {
     "elapsed": 2125,
     "status": "ok",
     "timestamp": 1761654913222,
     "user": {
      "displayName": "Luis Guillermo Molero Suárez",
      "userId": "05682280381107212519"
     },
     "user_tz": 300
    },
    "id": "eaee61ad",
    "outputId": "7edbab3f-73a6-4182-ef51-00049b9eb370"
   },
   "outputs": [
    {
     "name": "stdout",
     "output_type": "stream",
     "text": [
      "Ingrese su promedio (0 a 5): 4.8\n",
      "Desempeño excelente\n"
     ]
    }
   ],
   "source": [
    "promedio = float(input(\"Ingrese su promedio (0 a 5): \"))\n",
    "\n",
    "# Validación usando 'or' y 'not' para asegurar que esté en el rango permitido\n",
    "if not (0 <= promedio <= 5):\n",
    "    print(\"El promedio debe estar entre 0 y 5.\")\n",
    "\n",
    "# Clasificación usando 'and' para definir rangos exactos\n",
    "elif promedio >= 0 and promedio < 3.0:\n",
    "    print(\"Desempeño insuficiente\")\n",
    "elif promedio >= 3.0 and promedio < 4.0:\n",
    "    print(\"Desempeño aceptable\")\n",
    "elif promedio >= 4.0 and promedio < 4.7:\n",
    "    print(\"Desempeño sobresaliente\")\n",
    "else:\n",
    "    print(\"Desempeño excelente\")\n"
   ]
  },
  {
   "cell_type": "markdown",
   "id": "7893ab70",
   "metadata": {
    "id": "7893ab70"
   },
   "source": [
    "---\n",
    "\n",
    "### 3. Bucles: `while` y `for`\n",
    "\n",
    "#### `while` — bucle condicional\n",
    "\n",
    "“Se repite mientras “algo” sea verdadero”\n",
    "\n",
    "#### **1. Qué es un bucle**\n",
    "\n",
    "Un **bucle** es una estructura que permite **repetir** un bloque de código **varias veces**, sin tener que escribirlo una y otra vez.\n",
    "Python tiene dos tipos de bucles principales:\n",
    "\n",
    "* `for` → repite **un número definido** de veces (por ejemplo, recorrer una lista o rango).\n",
    "* `while` → repite **mientras** una condición sea verdadera.\n",
    "\n",
    "---\n"
   ]
  },
  {
   "cell_type": "markdown",
   "id": "db16ff92",
   "metadata": {
    "id": "db16ff92"
   },
   "source": [
    "#### **2. La lógica del `while`**\n",
    "\n",
    "La sintaxis básica es:\n",
    "\n",
    "```python\n",
    "while condición:\n",
    "    # Código que se ejecuta mientras la condición sea True\n",
    "```\n",
    "\n",
    "**Esto se traduce en palabras:**\n",
    "\n",
    "> “Mientras la condición sea verdadera, repite este bloque de instrucciones”.\n",
    "\n",
    "Cuando la condición **deja de cumplirse (es False)**, el programa **sale del bucle** y continúa con la siguiente línea.\n",
    "\n",
    "---\n",
    "\n"
   ]
  },
  {
   "cell_type": "markdown",
   "id": "6680c45f",
   "metadata": {
    "id": "6680c45f"
   },
   "source": [
    "#### Ejemplo visual\n",
    "\n",
    "Imagina que estás llenando una botella con agua.\n",
    "**Condición:** la botella no está llena.\n",
    "**Acción repetida:** seguir echando agua.\n",
    "\n",
    "Mientras la botella esté vacía → sigue llenando.\n",
    "Cuando se llena → detente.\n",
    "\n",
    "Eso es exactamente lo que hace `while`.\n",
    "\n",
    "---\n"
   ]
  },
  {
   "cell_type": "markdown",
   "id": "9951bc94",
   "metadata": {
    "id": "9951bc94"
   },
   "source": [
    "#### **3. Ejemplo básico**\n",
    "\n"
   ]
  },
  {
   "cell_type": "code",
   "execution_count": null,
   "id": "7218027b",
   "metadata": {
    "id": "7218027b"
   },
   "outputs": [],
   "source": [
    "contador = 1  # valor inicial\n",
    "\n",
    "while contador <= 5:  # condición\n",
    "    print(f\"Contador: {contador}\")\n",
    "    contador += 1  # incremento para evitar bucle infinito\n",
    "\n",
    "print(\"¡Fin del ciclo!\")\n"
   ]
  },
  {
   "cell_type": "markdown",
   "id": "afe76d5d",
   "metadata": {
    "id": "afe76d5d"
   },
   "source": [
    "#### **Ejercicio: Validar entrada**\n",
    "\n",
    "Pedir al usuario un número positivo.\n",
    "\n"
   ]
  },
  {
   "cell_type": "code",
   "execution_count": null,
   "id": "aa7ee1a4",
   "metadata": {
    "id": "aa7ee1a4"
   },
   "outputs": [],
   "source": [
    "numero = -1  # valor inicial\n",
    "\n",
    "while numero <= 0:\n",
    "    numero = float(input(\"Ingrese un número positivo: \"))\n",
    "    if numero <= 0:\n",
    "        print(\"Número inválido, intente nuevamente.\")\n",
    "\n",
    "print(f\"Número aceptado: {numero}\")\n"
   ]
  },
  {
   "cell_type": "markdown",
   "id": "7cc1ab81",
   "metadata": {
    "id": "7cc1ab81"
   },
   "source": [
    "\n",
    "#### **Ejercicio: Menú interactivo**\n",
    "\n",
    "\n",
    "#### **Palabras clave útiles dentro de un `while`**\n",
    "\n",
    "| Palabra clave | Significado                    | Ejemplo                                        |\n",
    "| ------------- | ------------------------------ | ---------------------------------------------- |\n",
    "| `break`       | Sale del bucle inmediatamente  | Detener un ciclo si el usuario ingresa “salir” |\n",
    "| `continue`    | Salta a la siguiente iteración | Ignorar datos vacíos y seguir pidiendo más     |\n",
    "\n"
   ]
  },
  {
   "cell_type": "code",
   "execution_count": null,
   "id": "mtbgUJx11Hql",
   "metadata": {
    "id": "mtbgUJx11Hql"
   },
   "outputs": [],
   "source": [
    "import datetime  # Para mostrar la fecha actual\n",
    "\n",
    "opcion = \"\"\n",
    "\n",
    "print(\"\\n--- MENÚ PRINCIPAL ---\")\n",
    "print(\"1. Saludar\")\n",
    "print(\"2. Mostrar fecha actual\")\n",
    "print(\"3. Salir\")\n",
    "\n",
    "while True:\n",
    "    opcion = input(\"Seleccione una opción (1-3): \")\n",
    "\n",
    "    # Validar si la opción es incorrecta usando operadores lógicos\n",
    "    if not (opcion == \"1\" or opcion == \"2\" or opcion == \"3\"):\n",
    "        print(\"Opción inválida, intente de nuevo.\")\n",
    "        continue\n",
    "\n",
    "    if opcion == \"1\":\n",
    "        print(\"Hola, bienvenido. Espero que tengas un excelente día.\")\n",
    "    elif opcion == \"2\":\n",
    "        fecha_actual = datetime.date.today()\n",
    "        print(f\"La fecha de hoy es: {fecha_actual.strftime('%d/%m/%Y')}\")\n",
    "    elif opcion == \"3\":\n",
    "        print(\"Saliendo del programa...\")\n",
    "        break\n"
   ]
  },
  {
   "cell_type": "code",
   "execution_count": null,
   "id": "3d94ef76",
   "metadata": {
    "id": "3d94ef76"
   },
   "outputs": [],
   "source": [
    "import datetime  # Para mostrar la fecha actual\n",
    "\n",
    "opcion = \"\"\n",
    "\n",
    "print(\"\\n--- MENÚ PRINCIPAL ---\")\n",
    "print(\"1. Saludar\")\n",
    "print(\"2. Mostrar fecha actual\")\n",
    "print(\"3. Salir\")\n",
    "\n",
    "while True:\n",
    "    opcion = input(\"Seleccione una opción (1-3): \")\n",
    "\n",
    "    # Validar si la opción es incorrecta\n",
    "    if opcion not in (\"1\", \"2\", \"3\"):\n",
    "        print(\"Opción inválida, intente de nuevo.\")\n",
    "        continue\n",
    "\n",
    "    # Opciones válidas\n",
    "    if opcion == \"1\":\n",
    "        print(\"Hola, bienvenido. Espero que tengas un excelente día.\")\n",
    "    elif opcion == \"2\":\n",
    "        fecha_actual = datetime.date.today()\n",
    "        print(f\"La fecha de hoy es: {fecha_actual.strftime('%d/%m/%Y')}\")\n",
    "    elif opcion == \"3\":\n",
    "        print(\"Saliendo del programa...\")\n",
    "        break\n",
    "\n"
   ]
  },
  {
   "cell_type": "markdown",
   "id": "22cf7a62",
   "metadata": {
    "id": "22cf7a62"
   },
   "source": [
    "---\n",
    "\n",
    "## **Diferencias entre `while` y `for`**\n",
    "\n",
    "| Característica                                 | `while` | `for`           |\n",
    "| ---------------------------------------------- | ------- | --------------- |\n",
    "| Repetición controlada por condición            | ✅       | ❌               |\n",
    "| Repetición controlada por rango o secuencia    | ❌       | ✅               |\n",
    "| Puede ser infinito                             | ✅       | Rara vez        |\n",
    "| Útil para validaciones o procesos desconocidos | ✅       | 🔸 Parcialmente |\n",
    "\n"
   ]
  },
  {
   "cell_type": "markdown",
   "id": "ad76ae6d",
   "metadata": {
    "id": "ad76ae6d"
   },
   "source": [
    "**Regla práctica:**\n",
    "Usa `while` cuando **no sabes cuántas veces** necesitas repetir algo.\n",
    "Usa `for` cuando **sí sabes** (por ejemplo, recorrer una lista o hacer algo 10 veces).\n",
    "\n",
    "---\n"
   ]
  },
  {
   "cell_type": "markdown",
   "id": "73907186",
   "metadata": {
    "id": "73907186"
   },
   "source": [
    "## **Ejercicios con While**\n"
   ]
  },
  {
   "cell_type": "markdown",
   "id": "59014053",
   "metadata": {
    "id": "59014053"
   },
   "source": [
    "**1. Contador ascendente**\n",
    "Muestra los números del 1 al 10 usando `while`.\n",
    "\n"
   ]
  },
  {
   "cell_type": "code",
   "execution_count": null,
   "id": "ba104b25",
   "metadata": {
    "id": "ba104b25"
   },
   "outputs": [],
   "source": [
    "contador = 1\n",
    "while contador <= 10:\n",
    "    print(contador)\n",
    "    contador += 1\n"
   ]
  },
  {
   "cell_type": "markdown",
   "id": "23218844",
   "metadata": {
    "id": "23218844"
   },
   "source": [
    "---\n",
    "\n",
    "**2. Suma acumulada de números**\n",
    "Pide números al usuario y acumula su suma hasta que escriba 0.\n",
    "\n"
   ]
  },
  {
   "cell_type": "code",
   "execution_count": null,
   "id": "5ac40a73",
   "metadata": {
    "id": "5ac40a73"
   },
   "outputs": [],
   "source": [
    "suma = 0\n",
    "numero = int(input(\"Ingrese un número (0 para salir): \"))\n",
    "\n",
    "while numero != 0:\n",
    "    suma += numero\n",
    "    numero = int(input(\"Ingrese otro número (0 para salir): \"))\n",
    "\n",
    "print(f\"La suma total es: {suma}\")\n"
   ]
  },
  {
   "cell_type": "markdown",
   "id": "547777b0",
   "metadata": {
    "id": "547777b0"
   },
   "source": [
    "---\n",
    "\n",
    "**3. Validar entrada positiva**\n",
    "Solicita un número positivo. Si el usuario ingresa un valor negativo, repite la solicitud.\n",
    "\n"
   ]
  },
  {
   "cell_type": "code",
   "execution_count": null,
   "id": "04da59b1",
   "metadata": {
    "id": "04da59b1"
   },
   "outputs": [],
   "source": [
    "numero = int(input(\"Ingrese un número positivo: \"))\n",
    "\n",
    "while numero < 0:\n",
    "    print(\"Error: debe ingresar un número positivo.\")\n",
    "    numero = int(input(\"Ingrese un número positivo: \"))\n",
    "\n",
    "print(f\"Número ingresado correctamente: {numero}\")\n"
   ]
  },
  {
   "cell_type": "markdown",
   "id": "fd35b180",
   "metadata": {
    "id": "fd35b180"
   },
   "source": [
    "---\n",
    "\n",
    "**4. Adivinar un número secreto**\n",
    "El programa genera un número aleatorio y el usuario intenta adivinarlo.\n",
    "\n"
   ]
  },
  {
   "cell_type": "code",
   "execution_count": null,
   "id": "0d7bfad6",
   "metadata": {
    "id": "0d7bfad6"
   },
   "outputs": [],
   "source": [
    "import random\n",
    "\n",
    "secreto = random.randint(1, 10)\n",
    "intento = int(input(\"Adivine el número (1-10): \"))\n",
    "\n",
    "while intento != secreto:\n",
    "    print(\"Incorrecto, intente de nuevo.\")\n",
    "    intento = int(input(\"Adivine el número (1-10): \"))\n",
    "\n",
    "print(\"¡Correcto! Ha adivinado el número.\")\n"
   ]
  },
  {
   "cell_type": "markdown",
   "id": "8169c5d4",
   "metadata": {
    "id": "8169c5d4"
   },
   "source": [
    "---\n",
    "\n",
    "**5. Validar contraseña con intentos limitados**\n",
    "El usuario tiene tres intentos para ingresar la contraseña correcta.\n",
    "\n"
   ]
  },
  {
   "cell_type": "code",
   "execution_count": null,
   "id": "6dd8e20c",
   "metadata": {
    "id": "6dd8e20c"
   },
   "outputs": [],
   "source": [
    "contraseña_correcta = \"python123\"\n",
    "intentos = 3\n",
    "\n",
    "while intentos > 0:\n",
    "    contraseña = input(\"Ingrese su contraseña: \")\n",
    "\n",
    "    if contraseña == contraseña_correcta:\n",
    "        print(\"Acceso concedido.\")\n",
    "        break\n",
    "    else:\n",
    "        intentos -= 1\n",
    "        print(f\"Contraseña incorrecta. Intentos restantes: {intentos}\")\n",
    "\n",
    "if intentos == 0:\n",
    "    print(\"Acceso denegado. Demasiados intentos fallidos.\")\n"
   ]
  },
  {
   "cell_type": "markdown",
   "id": "50c7f6f9",
   "metadata": {
    "id": "50c7f6f9"
   },
   "source": [
    "---\n",
    "\n",
    "**6. Cálculo de promedio hasta que se ingrese “fin”**\n",
    "El usuario ingresa notas y el programa calcula el promedio.\n",
    "\n"
   ]
  },
  {
   "cell_type": "code",
   "execution_count": null,
   "id": "3e897b72",
   "metadata": {
    "id": "3e897b72"
   },
   "outputs": [],
   "source": [
    "suma = 0\n",
    "contador = 0\n",
    "entrada = input(\"Ingrese una nota o 'fin' para terminar: \")\n",
    "\n",
    "while entrada.lower() != \"fin\":\n",
    "    nota = float(entrada)\n",
    "    suma += nota\n",
    "    contador += 1\n",
    "    entrada = input(\"Ingrese otra nota o 'fin' para terminar: \")\n",
    "\n",
    "if contador > 0:\n",
    "    promedio = suma / contador\n",
    "    print(f\"El promedio es: {promedio:.2f}\")\n",
    "else:\n",
    "    print(\"No se ingresaron notas.\")\n"
   ]
  },
  {
   "cell_type": "markdown",
   "id": "0c654080",
   "metadata": {
    "id": "0c654080"
   },
   "source": [
    "### `for` — bucle iterativo\n",
    "\n",
    "Se usa para recorrer secuencias como listas, rangos o cadenas.\n",
    "\n"
   ]
  },
  {
   "cell_type": "code",
   "execution_count": null,
   "id": "2c662a91",
   "metadata": {
    "id": "2c662a91"
   },
   "outputs": [],
   "source": [
    "for numero in range(1, 6):\n",
    "    print(f\"Iteración número {numero}\")\n"
   ]
  },
  {
   "cell_type": "markdown",
   "id": "14d62573",
   "metadata": {
    "id": "14d62573"
   },
   "source": [
    "#### Ejemplo combinado:\n",
    "\n"
   ]
  },
  {
   "cell_type": "code",
   "execution_count": null,
   "id": "209274c7",
   "metadata": {
    "id": "209274c7"
   },
   "outputs": [],
   "source": [
    "# Recorriendo una lista de productos\n",
    "productos = [\"Pan\", \"Leche\", \"Queso\"]\n",
    "for producto in productos:\n",
    "    print(f\"- {producto}\")\n"
   ]
  },
  {
   "cell_type": "markdown",
   "id": "38b254f1",
   "metadata": {
    "id": "38b254f1"
   },
   "source": [
    "---\n",
    "\n",
    "### 4. Palabras clave: `break` y `continue`\n",
    "\n",
    "#### `break` → interrumpe el bucle\n",
    "\n"
   ]
  },
  {
   "cell_type": "code",
   "execution_count": null,
   "id": "8d51c777",
   "metadata": {
    "id": "8d51c777"
   },
   "outputs": [],
   "source": [
    "for numero in range(1, 10):\n",
    "    if numero == 5:\n",
    "        print(\"Se interrumpe el ciclo en el número 5\")\n",
    "        break\n",
    "    print(numero)\n"
   ]
  },
  {
   "cell_type": "markdown",
   "id": "41d39041",
   "metadata": {
    "id": "41d39041"
   },
   "source": [
    "---\n",
    "\n",
    "#### `continue` → salta a la siguiente iteración\n",
    "\n"
   ]
  },
  {
   "cell_type": "code",
   "execution_count": null,
   "id": "219993bf",
   "metadata": {
    "id": "219993bf"
   },
   "outputs": [],
   "source": [
    "for numero in range(1, 6):\n",
    "    if numero == 3:\n",
    "        continue  # Evita imprimir el 3\n",
    "    print(numero)\n"
   ]
  },
  {
   "cell_type": "markdown",
   "id": "5374029a",
   "metadata": {
    "id": "5374029a"
   },
   "source": [
    "## **Ejercicios con `for`**\n",
    "\n",
    "---\n",
    "\n",
    "**1. Imprimir una secuencia de números**\n",
    "Muestra los números del 1 al 10 usando un bucle `for`.\n",
    "\n"
   ]
  },
  {
   "cell_type": "code",
   "execution_count": null,
   "id": "d6881d8d",
   "metadata": {
    "id": "d6881d8d"
   },
   "outputs": [],
   "source": [
    "for numero in range(1, 11):\n",
    "    print(numero)\n"
   ]
  },
  {
   "cell_type": "markdown",
   "id": "8b0540ef",
   "metadata": {
    "id": "8b0540ef"
   },
   "source": [
    "---\n",
    "\n",
    "**2. Mostrar los números pares del 2 al 20**\n",
    "\n"
   ]
  },
  {
   "cell_type": "code",
   "execution_count": null,
   "id": "6ad05f05",
   "metadata": {
    "id": "6ad05f05"
   },
   "outputs": [],
   "source": [
    "for numero in range(2, 21, 2):\n",
    "    print(numero)\n"
   ]
  },
  {
   "cell_type": "markdown",
   "id": "2581f528",
   "metadata": {
    "id": "2581f528"
   },
   "source": [
    "---\n",
    "\n",
    "**3. Recorrer una cadena de texto**\n",
    "Muestra cada letra de una palabra ingresada por el usuario.\n",
    "\n"
   ]
  },
  {
   "cell_type": "code",
   "execution_count": null,
   "id": "bdcc78cb",
   "metadata": {
    "id": "bdcc78cb"
   },
   "outputs": [],
   "source": [
    "palabras = input(\"Ingrese una palabra: \")\n",
    "\n",
    "for letra in palabras:\n",
    "    print(letra)\n"
   ]
  },
  {
   "cell_type": "markdown",
   "id": "3e152b3b",
   "metadata": {
    "id": "3e152b3b"
   },
   "source": [
    "---\n",
    "\n",
    "**4. Sumar los números del 1 al 100**\n",
    "\n"
   ]
  },
  {
   "cell_type": "code",
   "execution_count": null,
   "id": "22a6e7cc",
   "metadata": {
    "id": "22a6e7cc"
   },
   "outputs": [],
   "source": [
    "suma = 0\n",
    "\n",
    "for numero in range(1, 101):\n",
    "    suma += numero\n",
    "\n",
    "print(f\"La suma total es: {suma}\")\n"
   ]
  },
  {
   "cell_type": "markdown",
   "id": "55fa1692",
   "metadata": {
    "id": "55fa1692"
   },
   "source": [
    "---\n",
    "\n",
    "**5. Calcular el cuadrado de los números del 1 al 5**\n",
    "\n"
   ]
  },
  {
   "cell_type": "code",
   "execution_count": null,
   "id": "88e315c2",
   "metadata": {
    "id": "88e315c2"
   },
   "outputs": [],
   "source": [
    "for numero in range(1, 6):\n",
    "    cuadrado = numero ** 2\n",
    "    print(f\"El cuadrado de {numero} es {cuadrado}\")\n"
   ]
  },
  {
   "cell_type": "markdown",
   "id": "830e6385",
   "metadata": {
    "id": "830e6385"
   },
   "source": [
    "---\n",
    "\n",
    "**6. Mostrar solo las vocales de una palabra**\n",
    "\n"
   ]
  },
  {
   "cell_type": "code",
   "execution_count": null,
   "id": "5cfbec30",
   "metadata": {
    "id": "5cfbec30"
   },
   "outputs": [],
   "source": [
    "palabra = input(\"Ingrese una palabra: \")\n",
    "vocales = \"aeiouAEIOU\"\n",
    "\n",
    "for letra in palabra:\n",
    "    if letra in vocales:\n",
    "        print(letra)\n"
   ]
  },
  {
   "cell_type": "markdown",
   "id": "affa68c2",
   "metadata": {
    "id": "affa68c2"
   },
   "source": [
    "---\n",
    "\n",
    "**7. Contar cuántas veces aparece una letra específica**\n",
    "\n"
   ]
  },
  {
   "cell_type": "code",
   "execution_count": null,
   "id": "c78c4690",
   "metadata": {
    "id": "c78c4690"
   },
   "outputs": [],
   "source": [
    "texto = input(\"Ingrese un texto: \")\n",
    "letra = input(\"Ingrese la letra a contar: \")\n",
    "\n",
    "contador = 0\n",
    "\n",
    "for caracter in texto:\n",
    "    if caracter == letra:\n",
    "        contador += 1\n",
    "\n",
    "print(f\"La letra '{letra}' aparece {contador} veces.\")\n"
   ]
  },
  {
   "cell_type": "markdown",
   "id": "1925cf61",
   "metadata": {
    "id": "1925cf61"
   },
   "source": [
    "---\n",
    "\n",
    "**8. Tabla de multiplicar de un número**\n",
    "Pide un número al usuario y muestra su tabla de multiplicar del 1 al 10.\n",
    "\n"
   ]
  },
  {
   "cell_type": "code",
   "execution_count": null,
   "id": "7b6fbcd9",
   "metadata": {
    "id": "7b6fbcd9"
   },
   "outputs": [],
   "source": [
    "numero = int(input(\"Ingrese un número: \"))\n",
    "\n",
    "for i in range(1, 11):\n",
    "    print(f\"{numero} x {i} = {numero * i}\")\n"
   ]
  },
  {
   "cell_type": "markdown",
   "id": "b93eae68",
   "metadata": {
    "id": "b93eae68"
   },
   "source": [
    "---\n",
    "\n",
    "**9. Sumar solo los números impares del 1 al 50**\n",
    "\n"
   ]
  },
  {
   "cell_type": "code",
   "execution_count": null,
   "id": "fcee4bba",
   "metadata": {
    "id": "fcee4bba"
   },
   "outputs": [],
   "source": [
    "suma = 0\n",
    "\n",
    "for numero in range(1, 51):\n",
    "    if numero % 2 != 0:\n",
    "        suma += numero\n",
    "\n",
    "print(f\"La suma de los números impares del 1 al 50 es: {suma}\")\n"
   ]
  },
  {
   "cell_type": "markdown",
   "id": "5533c72f",
   "metadata": {
    "id": "5533c72f"
   },
   "source": [
    "---\n",
    "\n",
    "**10. Calcular el factorial de un número**\n",
    "\n"
   ]
  },
  {
   "cell_type": "code",
   "execution_count": null,
   "id": "9c543aed",
   "metadata": {
    "id": "9c543aed"
   },
   "outputs": [],
   "source": [
    "numero = int(input(\"Ingrese un número: \"))\n",
    "factorial = 1\n",
    "\n",
    "for i in range(1, numero + 1):\n",
    "    factorial *= i\n",
    "\n",
    "print(f\"El factorial de {numero} es: {factorial}\")\n"
   ]
  },
  {
   "cell_type": "markdown",
   "id": "2ccc206e",
   "metadata": {
    "id": "2ccc206e"
   },
   "source": [
    "---\n",
    "\n",
    "**11. Imprimir una cuenta regresiva**\n",
    "\n"
   ]
  },
  {
   "cell_type": "code",
   "execution_count": null,
   "id": "b860a772",
   "metadata": {
    "id": "b860a772"
   },
   "outputs": [],
   "source": [
    "for i in range(10, 0, -1):\n",
    "    print(i)\n",
    "print(\"¡Despegue!\")\n"
   ]
  },
  {
   "cell_type": "markdown",
   "id": "49849d3e",
   "metadata": {
    "id": "49849d3e"
   },
   "source": [
    "---\n",
    "\n",
    "**12. Promedio de una lista de calificaciones**\n",
    "\n"
   ]
  },
  {
   "cell_type": "code",
   "execution_count": null,
   "id": "4ee440ec",
   "metadata": {
    "id": "4ee440ec"
   },
   "outputs": [],
   "source": [
    "calificaciones = [3.5, 4.0, 4.5, 3.8, 5.0]\n",
    "suma = 0\n",
    "\n",
    "for nota in calificaciones:\n",
    "    suma += nota\n",
    "\n",
    "promedio = suma / len(calificaciones)\n",
    "print(f\"El promedio es: {promedio:.2f}\")\n"
   ]
  }
 ],
 "metadata": {
  "colab": {
   "provenance": []
  },
  "kernelspec": {
   "display_name": "base",
   "language": "python",
   "name": "python3"
  },
  "language_info": {
   "codemirror_mode": {
    "name": "ipython",
    "version": 3
   },
   "file_extension": ".py",
   "mimetype": "text/x-python",
   "name": "python",
   "nbconvert_exporter": "python",
   "pygments_lexer": "ipython3",
   "version": "3.13.5"
  }
 },
 "nbformat": 4,
 "nbformat_minor": 5
}
