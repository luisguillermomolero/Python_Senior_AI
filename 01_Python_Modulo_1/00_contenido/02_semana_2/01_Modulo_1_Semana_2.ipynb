{
 "cells": [
  {
   "cell_type": "markdown",
   "id": "db74b902",
   "metadata": {},
   "source": [
    "# Clase 2: Variables, Tipos de Datos y Operadores en Python\n",
    "\n",
    "**Objetivos de aprendizaje:**\n",
    "\n",
    "* Comprender la lógica de variables, su declaración y asignación dinámica.\n",
    "* Manipular tipos de datos primitivos en Python.\n",
    "* Utilizar operadores correctamente con sentido lógico.\n",
    "\n",
    "---\n"
   ]
  },
  {
   "cell_type": "markdown",
   "id": "11b8eb22",
   "metadata": {},
   "source": [
    "## 1. Introducción a las variables y la inferencia de tipos (40 min)\n",
    "\n",
    "### Explicación teórica\n",
    "\n",
    "* Una **variable** es un espacio en memoria que guarda un valor.\n",
    "* En Python no se declara el tipo explícitamente → **tipado dinámico**.\n",
    "* Convención internacional (PEP8):\n",
    "\n",
    "  * Nombres en **snake_case**.\n",
    "  * Nombres significativos (no usar `a`, `b` sin contexto).\n",
    "\n",
    "### Ejemplo simple\n",
    "\n"
   ]
  },
  {
   "cell_type": "code",
   "execution_count": null,
   "id": "bd15722c",
   "metadata": {},
   "outputs": [],
   "source": [
    "# Ejemplo de asignación dinámica\n",
    "nombre = \"Luis\"       # tipo str\n",
    "edad = 30             # tipo int\n",
    "altura = 1.75         # tipo float\n",
    "es_profesor = True    # tipo bool\n",
    "\n",
    "# Uso de print con f-strings (profesional)\n",
    "print(f\"Nombre: {nombre}, Edad: {edad}, Altura: {altura} m, Profesor: {es_profesor}\")\n"
   ]
  },
  {
   "cell_type": "markdown",
   "id": "686d3ea2",
   "metadata": {},
   "source": [
    "✅ Mejores prácticas internacionales:\n",
    "\n",
    "* Documentar el código con comentarios.\n",
    "* Usar f-strings para impresión clara y segura (evita concatenaciones riesgosas).\n",
    "\n",
    "---\n"
   ]
  },
  {
   "cell_type": "markdown",
   "id": "eec76b0b",
   "metadata": {},
   "source": [
    "## 2. Tipos de datos primitivos\n",
    "\n",
    "### Explicación con ejemplos\n",
    "\n",
    "1. **Enteros (`int`)**: números sin decimales.\n",
    "\n",
    "   ```python\n",
    "   numero_entero = 42\n",
    "   ```\n",
    "2. **Decimales (`float`)**: números con parte fraccionaria.\n",
    "\n",
    "   ```python\n",
    "   pi = 3.1416\n",
    "   ```\n",
    "3. **Cadenas (`str`)**: texto entre comillas.\n",
    "\n",
    "   ```python\n",
    "   saludo = \"Hola Mundo\"\n",
    "   ```\n",
    "4. **Booleanos (`bool`)**: valores lógicos.\n",
    "\n",
    "   ```python\n",
    "   activo = True\n",
    "   ```\n",
    "\n",
    "### Conversión de tipos (casting)\n",
    "\n"
   ]
  },
  {
   "cell_type": "code",
   "execution_count": null,
   "id": "8969ff15",
   "metadata": {},
   "outputs": [],
   "source": [
    "# Conversión explícita\n",
    "numero_str = \"25\"\n",
    "numero_int = int(numero_str)   # de str → int\n",
    "print(numero_int + 5)\n",
    "\n",
    "# De número a texto\n",
    "edad = 20\n",
    "edad_texto = str(edad)\n",
    "print(\"Tu edad es \" + edad_texto)\n"
   ]
  },
  {
   "cell_type": "markdown",
   "id": "23f8000b",
   "metadata": {},
   "source": [
    "\n",
    "➡️ **Norma de seguridad (OWASP):** siempre validar entradas antes de convertir, porque el usuario puede ingresar datos inválidos.\n",
    "\n",
    "---\n",
    "\n"
   ]
  },
  {
   "cell_type": "markdown",
   "id": "7d9ec650",
   "metadata": {},
   "source": [
    "## 3. Operadores en Python\n",
    "\n",
    "### 3.1 Operadores aritméticos\n",
    "\n"
   ]
  },
  {
   "cell_type": "code",
   "execution_count": null,
   "id": "bf1d47a1",
   "metadata": {},
   "outputs": [],
   "source": [
    "a, b = 10, 3\n",
    "\n",
    "print(f\"Suma: {a + b}\")\n",
    "print(f\"Resta: {a - b}\")\n",
    "print(f\"Multiplicación: {a * b}\")\n",
    "print(f\"División: {a / b}\")    # float\n",
    "print(f\"División entera: {a // b}\")  # sin decimales\n",
    "print(f\"Módulo (resto): {a % b}\")\n",
    "print(f\"Potencia: {a ** b}\")\n"
   ]
  },
  {
   "cell_type": "markdown",
   "id": "f386a526",
   "metadata": {},
   "source": [
    "### 3.2 Operadores relacionales\n",
    "\n"
   ]
  },
  {
   "cell_type": "code",
   "execution_count": null,
   "id": "0f2945ab",
   "metadata": {},
   "outputs": [],
   "source": [
    "x, y = 5, 7\n",
    "\n",
    "print(f\"x == y : {x == y}\")   # Igual\n",
    "print(f\"x != y : {x != y}\")   # Diferente\n",
    "print(f\"x > y  : {x > y}\")    # Mayor\n",
    "print(f\"x < y  : {x < y}\")    # Menor\n",
    "print(f\"x >= y : {x >= y}\")   # Mayor o igual\n",
    "print(f\"x <= y : {x <= y}\")   # Menor o igual\n"
   ]
  },
  {
   "cell_type": "markdown",
   "id": "7642db69",
   "metadata": {},
   "source": [
    "\n",
    "### 3.3 Operadores lógicos\n",
    "\n"
   ]
  },
  {
   "cell_type": "code",
   "execution_count": null,
   "id": "dc1962e1",
   "metadata": {},
   "outputs": [],
   "source": [
    "tiene_saldo = True\n",
    "es_mayor = False\n",
    "\n",
    "print(f\"AND: {tiene_saldo and es_mayor}\")  # Ambos deben ser True\n",
    "print(f\"OR : {tiene_saldo or es_mayor}\")   # Al menos uno True\n",
    "print(f\"NOT: {not tiene_saldo}\")           # Invierte el valor\n"
   ]
  },
  {
   "cell_type": "markdown",
   "id": "8f0b7a56",
   "metadata": {},
   "source": [
    "✅ Buenas prácticas:\n",
    "\n",
    "* Usar operadores lógicos para validaciones (ej. validar edad **y** nombre).\n",
    "* Nunca mezclar tipos sin casting explícito.\n",
    "\n",
    "---\n",
    "\n"
   ]
  },
  {
   "cell_type": "markdown",
   "id": "853dc38b",
   "metadata": {},
   "source": [
    "## 4. f-strings para impresión profesional\n",
    "\n"
   ]
  },
  {
   "cell_type": "code",
   "execution_count": null,
   "id": "c677be8b",
   "metadata": {},
   "outputs": [],
   "source": [
    "# Ejemplo profesional de salida formateada\n",
    "nombre = \"Ana\"\n",
    "saldo = 2543.7589\n",
    "\n",
    "print(f\"Hola {nombre}, tu saldo disponible es: ${saldo:,.2f}\")\n",
    "# → Hola Ana, tu saldo disponible es: $2,543.76\n"
   ]
  },
  {
   "cell_type": "markdown",
   "id": "a397bed1",
   "metadata": {},
   "source": [
    "➡️ **Normas internacionales:**\n",
    "\n",
    "* Salidas claras, con formato profesional.\n",
    "* Buenas prácticas de usabilidad → evitar mensajes ambiguos.\n",
    "\n",
    "---\n"
   ]
  },
  {
   "cell_type": "markdown",
   "id": "2d3c3892",
   "metadata": {},
   "source": [
    "## 5. Validación manual vs. automática\n",
    "\n",
    "### Validación manual (if + casting)\n",
    "\n"
   ]
  },
  {
   "cell_type": "code",
   "execution_count": null,
   "id": "fd772b94",
   "metadata": {},
   "outputs": [],
   "source": [
    "edad_str = input(\"Ingrese su edad: \")\n",
    "\n",
    "if edad_str.isdigit():   # Validación manual\n",
    "    edad = int(edad_str)\n",
    "    print(f\"Edad válida: {edad}\")\n",
    "else:\n",
    "    print(\"Error: ingrese un número entero positivo.\")\n"
   ]
  },
  {
   "cell_type": "markdown",
   "id": "bc9ca35e",
   "metadata": {},
   "source": [
    "### Validación automática con `try-except`\n",
    "\n"
   ]
  },
  {
   "cell_type": "code",
   "execution_count": null,
   "id": "0a48eb96",
   "metadata": {},
   "outputs": [],
   "source": [
    "try:\n",
    "    edad = int(input(\"Ingrese su edad: \"))\n",
    "    print(f\"Edad válida: {edad}\")\n",
    "except ValueError:\n",
    "    print(\"Error: la edad debe ser un número.\")\n"
   ]
  },
  {
   "cell_type": "markdown",
   "id": "66077cbe",
   "metadata": {},
   "source": [
    "➡️ **Norma internacional (OWASP):** todo input externo debe ser validado para evitar errores o inyecciones de datos.\n",
    "\n",
    "---\n",
    "\n"
   ]
  },
  {
   "cell_type": "markdown",
   "id": "42fc3be6",
   "metadata": {},
   "source": [
    "## 6. Proyecto en clase\n",
    "\n",
    "### Enunciado\n",
    "\n",
    "Crear un **mini script de calculadora** que:\n",
    "\n",
    "1. Pida dos números al usuario.\n",
    "2. Valide que sean correctos.\n",
    "3. Permita seleccionar una operación aritmética.\n",
    "4. Muestre el resultado usando f-strings.\n",
    "\n",
    "---\n",
    "\n",
    "### Versión inicial (básica)\n",
    "\n"
   ]
  },
  {
   "cell_type": "code",
   "execution_count": null,
   "id": "7d4ac96c",
   "metadata": {},
   "outputs": [],
   "source": [
    "num1 = int(input(\"Ingrese el primer número: \"))\n",
    "num2 = int(input(\"Ingrese el segundo número: \"))\n",
    "\n",
    "print(\"Operaciones disponibles: +, -, *, /\")\n",
    "op = input(\"Seleccione una operación: \")\n",
    "\n",
    "if op == \"+\":\n",
    "    print(f\"Resultado: {num1 + num2}\")\n",
    "elif op == \"-\":\n",
    "    print(f\"Resultado: {num1 - num2}\")\n",
    "elif op == \"*\":\n",
    "    print(f\"Resultado: {num1 * num2}\")\n",
    "elif op == \"/\":\n",
    "    if num2 != 0:\n",
    "        print(f\"Resultado: {num1 / num2:.2f}\")\n",
    "    else:\n",
    "        print(\"Error: división por cero.\")\n",
    "else:\n",
    "    print(\"Operación inválida.\")\n"
   ]
  },
  {
   "cell_type": "markdown",
   "id": "782a5ee2",
   "metadata": {},
   "source": [
    "\n",
    "---\n",
    "\n",
    "### Versión mejorada con funciones y validación\n",
    "\n"
   ]
  },
  {
   "cell_type": "code",
   "execution_count": null,
   "id": "f18bd802",
   "metadata": {},
   "outputs": [],
   "source": [
    "def leer_numero(mensaje: str) -> float:\n",
    "    \"\"\"\n",
    "    Lee un número desde consola y valida que sea correcto.\n",
    "    Retorna un float.\n",
    "    \"\"\"\n",
    "    while True:\n",
    "        try:\n",
    "            return float(input(mensaje))\n",
    "        except ValueError:\n",
    "            print(\"Error: ingrese un número válido.\")\n",
    "\n",
    "def calcular(num1: float, num2: float, op: str) -> float | None:\n",
    "    \"\"\"\n",
    "    Ejecuta una operación aritmética básica.\n",
    "    Retorna el resultado o None si la operación no es válida.\n",
    "    \"\"\"\n",
    "    if op == \"+\":\n",
    "        return num1 + num2\n",
    "    elif op == \"-\":\n",
    "        return num1 - num2\n",
    "    elif op == \"*\":\n",
    "        return num1 * num2\n",
    "    elif op == \"/\" and num2 != 0:\n",
    "        return num1 / num2\n",
    "    return None\n",
    "\n",
    "def main() -> None:\n",
    "    \"\"\"Función principal de la calculadora.\"\"\"\n",
    "    num1 = leer_numero(\"Ingrese el primer número: \")\n",
    "    num2 = leer_numero(\"Ingrese el segundo número: \")\n",
    "\n",
    "    op = input(\"Seleccione operación (+, -, *, /): \")\n",
    "    resultado = calcular(num1, num2, op)\n",
    "\n",
    "    if resultado is not None:\n",
    "        print(f\"Resultado: {resultado:.2f}\")\n",
    "    else:\n",
    "        print(\"Error: operación inválida o división por cero.\")\n",
    "\n",
    "if __name__ == \"__main__\":\n",
    "    main()\n"
   ]
  },
  {
   "cell_type": "markdown",
   "id": "b551d583",
   "metadata": {},
   "source": [
    "✅ Mejores prácticas aplicadas:\n",
    "\n",
    "* **Funciones reutilizables**.\n",
    "* **Tipado fuerte** (`float | None`).\n",
    "* **Validación robusta** de entrada.\n",
    "* **Documentación** de funciones.\n",
    "\n",
    "---\n",
    "\n"
   ]
  },
  {
   "cell_type": "markdown",
   "id": "abb64d32",
   "metadata": {},
   "source": [
    "## 7. Ejercicios tipo reto\n",
    "\n",
    "1. Calcular el **IMC (Índice de Masa Corporal)** pidiendo peso y altura.\n",
    "\n"
   ]
  },
  {
   "cell_type": "code",
   "execution_count": null,
   "id": "535293e6",
   "metadata": {},
   "outputs": [],
   "source": [
    "def leer_numero(mensaje: str) -> float:\n",
    "    \"\"\"\n",
    "    Solicita un número al usuario y valida que sea positivo.\n",
    "    Retorna el número como float.\n",
    "    \"\"\"\n",
    "    while True:\n",
    "        try:\n",
    "            valor = float(input(mensaje))\n",
    "            if valor > 0:\n",
    "                return valor\n",
    "            else:\n",
    "                print(\"Error: el número debe ser mayor que 0.\")\n",
    "        except ValueError:\n",
    "            print(\"Error: ingrese un número válido.\")\n",
    "\n",
    "def calcular_imc(peso: float, altura: float) -> float:\n",
    "    \"\"\"\n",
    "    Calcula el Índice de Masa Corporal (IMC).\n",
    "    Fórmula: peso / (altura ** 2)\n",
    "    \"\"\"\n",
    "    return peso / (altura ** 2)\n",
    "\n",
    "def clasificar_imc(imc: float) -> str:\n",
    "    \"\"\"\n",
    "    Clasifica el IMC según rangos de la OMS.\n",
    "    \"\"\"\n",
    "    if imc < 18.5:\n",
    "        return \"Bajo peso\"\n",
    "    elif imc < 25:\n",
    "        return \"Normal\"\n",
    "    elif imc < 30:\n",
    "        return \"Sobrepeso\"\n",
    "    else:\n",
    "        return \"Obesidad\"\n",
    "\n",
    "def main() -> None:\n",
    "    \"\"\"Función principal del programa.\"\"\"\n",
    "    print(\"=== Calculadora de IMC ===\")\n",
    "    peso = leer_numero(\"Ingrese su peso en kg: \")\n",
    "    altura = leer_numero(\"Ingrese su altura en metros: \")\n",
    "\n",
    "    imc = calcular_imc(peso, altura)\n",
    "    categoria = clasificar_imc(imc)\n",
    "\n",
    "    print(f\"\\nResultado:\")\n",
    "    print(f\"Peso: {peso:.2f} kg, Altura: {altura:.2f} m\")\n",
    "    print(f\"IMC: {imc:.2f} → {categoria}\")\n",
    "\n",
    "if __name__ == \"__main__\":\n",
    "    main()\n"
   ]
  },
  {
   "cell_type": "markdown",
   "id": "b7038460",
   "metadata": {},
   "source": [
    "2. Diseñar una fórmula para calcular el **interés compuesto**.\n",
    "\n"
   ]
  },
  {
   "cell_type": "code",
   "execution_count": null,
   "id": "e35244f0",
   "metadata": {},
   "outputs": [],
   "source": [
    "def leer_numero(mensaje: str, entero: bool = False) -> float:\n",
    "    \"\"\"\n",
    "    Solicita un número al usuario, valida que sea positivo.\n",
    "    Retorna int o float según el parámetro 'entero'.\n",
    "    \"\"\"\n",
    "    while True:\n",
    "        try:\n",
    "            valor = int(input(mensaje)) if entero else float(input(mensaje))\n",
    "            if valor > 0:\n",
    "                return valor\n",
    "            else:\n",
    "                print(\"Error: el número debe ser mayor que 0.\")\n",
    "        except ValueError:\n",
    "            print(\"Error: ingrese un número válido.\")\n",
    "\n",
    "def calcular_interes_compuesto(P: float, r: float, n: int, t: float) -> float:\n",
    "    \"\"\"\n",
    "    Calcula el monto final del interés compuesto.\n",
    "    Fórmula: A = P * (1 + r/n) ** (n*t)\n",
    "    \"\"\"\n",
    "    return P * (1 + r/n) ** (n*t)\n",
    "\n",
    "def main() -> None:\n",
    "    \"\"\"Función principal del programa.\"\"\"\n",
    "    print(\"=== Calculadora de Interés Compuesto ===\")\n",
    "    P = leer_numero(\"Ingrese el capital inicial (P): \")\n",
    "    r = leer_numero(\"Ingrese la tasa de interés anual (ej: 0.05 para 5%): \")\n",
    "    n = int(leer_numero(\"Ingrese los periodos de capitalización por año (ej: 12 para mensual): \", entero=True))\n",
    "    t = leer_numero(\"Ingrese el tiempo en años: \")\n",
    "\n",
    "    A = calcular_interes_compuesto(P, r, n, t)\n",
    "    intereses = A - P\n",
    "\n",
    "    print(f\"\\nResultados:\")\n",
    "    print(f\"Capital inicial: {P:.2f}\")\n",
    "    print(f\"Tasa anual: {r*100:.2f}%\")\n",
    "    print(f\"Tiempo: {t:.1f} años, Capitalización: {n} veces/año\")\n",
    "    print(f\"Monto final: {A:.2f}\")\n",
    "    print(f\"Intereses generados: {intereses:.2f}\")\n",
    "\n",
    "if __name__ == \"__main__\":\n",
    "    main()\n"
   ]
  },
  {
   "cell_type": "markdown",
   "id": "c235785f",
   "metadata": {},
   "source": [
    "3. Validar que el usuario no ingrese **números negativos**.\n"
   ]
  },
  {
   "cell_type": "code",
   "execution_count": null,
   "id": "7fe7e03a",
   "metadata": {},
   "outputs": [],
   "source": [
    "def leer_numero_positivo(mensaje: str, entero: bool = False) -> float:\n",
    "    \"\"\"\n",
    "    Solicita al usuario un número positivo (int o float).\n",
    "    Repite hasta que el usuario ingrese un valor válido.\n",
    "    \"\"\"\n",
    "    while True:\n",
    "        try:\n",
    "            valor = int(input(mensaje)) if entero else float(input(mensaje))\n",
    "            if valor > 0:\n",
    "                return valor\n",
    "            else:\n",
    "                print(\"Error: el número debe ser mayor que 0.\")\n",
    "        except ValueError:\n",
    "            print(\"Error: ingrese un número válido.\")\n",
    "\n",
    "def calcular_interes_compuesto(P: float, r: float, n: int, t: float) -> float:\n",
    "    \"\"\"\n",
    "    Calcula el monto final del interés compuesto.\n",
    "    Fórmula: A = P * (1 + r/n) ** (n*t)\n",
    "    \"\"\"\n",
    "    return P * (1 + r/n) ** (n*t)\n",
    "\n",
    "def main() -> None:\n",
    "    print(\"=== Calculadora de Interés Compuesto ===\")\n",
    "    \n",
    "    P = leer_numero_positivo(\"Ingrese el capital inicial (P): \")\n",
    "    r = leer_numero_positivo(\"Ingrese la tasa de interés anual (ej: 0.05 para 5%): \")\n",
    "    n = leer_numero_positivo(\"Ingrese los periodos de capitalización por año (ej: 12 para mensual): \", entero=True)\n",
    "    t = leer_numero_positivo(\"Ingrese el tiempo en años: \")\n",
    "\n",
    "    A = calcular_interes_compuesto(P, r, n, t)\n",
    "    intereses = A - P\n",
    "\n",
    "    print(\"\\nResultados:\")\n",
    "    print(f\"Capital inicial: {P:.2f}\")\n",
    "    print(f\"Tasa anual: {r*100:.2f}%\")\n",
    "    print(f\"Tiempo: {t:.1f} años, Capitalización: {n} veces/año\")\n",
    "    print(f\"Monto final: {A:.2f}\")\n",
    "    print(f\"Intereses generados: {intereses:.2f}\")\n",
    "\n",
    "if __name__ == \"__main__\":\n",
    "    main()\n"
   ]
  },
  {
   "cell_type": "markdown",
   "id": "f11c1890",
   "metadata": {},
   "source": [
    "* **Tarea:**\n",
    "\n",
    "  * Ampliar la calculadora para incluir **operador potencia (`**`) y módulo (`%`)**.\n",
    "  * Subir el script mejorado a GitHub.\n",
    "\n",
    "---\n"
   ]
  },
  {
   "cell_type": "code",
   "execution_count": null,
   "id": "482d5749",
   "metadata": {},
   "outputs": [],
   "source": [
    "def leer_numero(mensaje: str, entero: bool = False) -> float:\n",
    "    \"\"\"\n",
    "    Solicita un número al usuario y valida que sea válido.\n",
    "    Retorna int o float según el parámetro 'entero'.\n",
    "    \"\"\"\n",
    "    while True:\n",
    "        try:\n",
    "            valor = int(input(mensaje)) if entero else float(input(mensaje))\n",
    "            return valor\n",
    "        except ValueError:\n",
    "            print(\"Error: ingrese un número válido.\")\n",
    "\n",
    "\n",
    "def calcular(a: float, b: float, operador: str) -> float:\n",
    "    \"\"\"\n",
    "    Realiza una operación matemática entre dos números.\n",
    "    Operadores soportados: +, -, *, /, //, %, **.\n",
    "    \"\"\"\n",
    "    try:\n",
    "        if operador == \"+\":\n",
    "            return a + b\n",
    "        elif operador == \"-\":\n",
    "            return a - b\n",
    "        elif operador == \"*\":\n",
    "            return a * b\n",
    "        elif operador == \"/\":\n",
    "            return a / b\n",
    "        elif operador == \"//\":\n",
    "            return a // b\n",
    "        elif operador == \"%\":\n",
    "            return a % b\n",
    "        elif operador == \"**\":\n",
    "            return a ** b\n",
    "        else:\n",
    "            raise ValueError(\"Operador no soportado.\")\n",
    "    except ZeroDivisionError:\n",
    "        print(\"Error: división entre cero no permitida.\")\n",
    "        return float(\"nan\")  # Not a Number\n",
    "    except Exception as e:\n",
    "        print(f\"Error inesperado: {e}\")\n",
    "        return float(\"nan\")\n",
    "\n",
    "\n",
    "def main() -> None:\n",
    "    print(\"=== Calculadora Básica Extensible ===\")\n",
    "    print(\"Operadores disponibles: +, -, *, /, //, %, **\")\n",
    "    print(\"Escriba 'salir' en el operador para terminar.\\n\")\n",
    "\n",
    "    while True:\n",
    "        a = leer_numero(\"Ingrese el primer número: \")\n",
    "        b = leer_numero(\"Ingrese el segundo número: \")\n",
    "\n",
    "        operador = input(\"Ingrese el operador (+, -, *, /, //, %, **): \").strip()\n",
    "\n",
    "        if operador.lower() == \"salir\":\n",
    "            print(\"Saliendo de la calculadora. ¡Hasta pronto!\")\n",
    "            break\n",
    "\n",
    "        resultado = calcular(a, b, operador)\n",
    "        if resultado == resultado:  # valida que no sea NaN\n",
    "            print(f\"Resultado de {a} {operador} {b} = {resultado}\\n\")\n",
    "\n",
    "\n",
    "if __name__ == \"__main__\":\n",
    "    main()\n"
   ]
  }
 ],
 "metadata": {
  "language_info": {
   "name": "python"
  }
 },
 "nbformat": 4,
 "nbformat_minor": 5
}
