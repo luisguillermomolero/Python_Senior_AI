{
 "cells": [
  {
   "cell_type": "markdown",
   "id": "16510833",
   "metadata": {},
   "source": [
    "## **CLASE 2: Middleware, rutas protegidas y autorización basada en roles**\n",
    "\n",
    "### Objetivos de aprendizaje:\n",
    "\n",
    "* Proteger rutas con `Depends` en FastAPI usando JWT.\n",
    "* Controlar acceso según el rol del usuario (`admin`, `user`).\n",
    "* Implementar middleware personalizado y pruebas de acceso.\n",
    "\n",
    "---\n"
   ]
  },
  {
   "cell_type": "markdown",
   "id": "b5912868",
   "metadata": {},
   "source": [
    "### Contenidos y desarrollo\n",
    "\n",
    "\n",
    "#### Árbol de carpetas para el proyecto FastAPI\n",
    "\n",
    "```plaintext\n",
    "my_project/\n",
    "│\n",
    "├── app/\n",
    "│   ├── main.py\n",
    "│   ├── config.py\n",
    "│\n",
    "│   ├── auth/\n",
    "│   │   ├── jwt_handler.py         # Creación de tokens JWT\n",
    "│   │   ├── security.py            # Validación y extracción del usuario actual\n",
    "│   │   └── roles.py               # Verificación de rol por usuario\n",
    "│\n",
    "│   ├── routers/\n",
    "│   │   ├── users.py               # Ruta protegida para obtener datos del usuario\n",
    "│   │   └── admin.py               # Ruta protegida para administradores\n",
    "│\n",
    "│   ├── middleware/\n",
    "│   │   └── validate_token.py      # Middleware que exige token en rutas /admin\n",
    "\n",
    "```\n",
    "\n",
    "---\n",
    "\n"
   ]
  },
  {
   "cell_type": "markdown",
   "id": "b62b3aba",
   "metadata": {},
   "source": [
    "#### 1. **Definir las variables de entorno**\n",
    "\n",
    "app/config.py"
   ]
  },
  {
   "cell_type": "code",
   "execution_count": null,
   "id": "c9869ab0",
   "metadata": {},
   "outputs": [],
   "source": [
    "SECRET_KEY = \"mi_clave_secreta\"\n",
    "ALGORITHM = \"HS256\"\n",
    "ACCESS_TOKEN_EXPIRE_MINUTES = 30\n"
   ]
  },
  {
   "cell_type": "markdown",
   "id": "8c530b10",
   "metadata": {},
   "source": [
    "#### 2. **Autenticación básica y creación de JWT seguro**\n",
    "\n",
    "app/auth/jwt_handler.py"
   ]
  },
  {
   "cell_type": "code",
   "execution_count": null,
   "id": "ae762152",
   "metadata": {},
   "outputs": [],
   "source": [
    "from jose import JWTError, jwt\n",
    "from datetime import datetime, timedelta\n",
    "from app.config import SECRET_KEY, ALGORITHM, ACCESS_TOKEN_EXPIRE_MINUTES\n",
    "\n",
    "def create_access_token(data: dict, expires_delta: timedelta = None):\n",
    "    to_encode = data.copy()\n",
    "    expire = datetime.now() + (expires_delta or timedelta(minutes=ACCESS_TOKEN_EXPIRE_MINUTES))\n",
    "    to_encode.update({\"exp\": expire})\n",
    "    return jwt.encode(to_encode, SECRET_KEY, algorithm=ALGORITHM)\n"
   ]
  },
  {
   "cell_type": "markdown",
   "id": "658eba56",
   "metadata": {},
   "source": [
    "> **Buenas prácticas**:\n",
    ">\n",
    "> * Nunca exponer la clave secreta (`SECRET_KEY`) en el código fuente.\n",
    "> * Establecer expiración del token.\n",
    "\n",
    "---\n"
   ]
  },
  {
   "cell_type": "markdown",
   "id": "eb5c47cc",
   "metadata": {},
   "source": [
    "#### 3. **Rutas protegidas y extracción del token con `Depends`**\n",
    "\n",
    "#### Conceptos clave previos\n",
    "\n",
    "| Concepto                 | Descripción                                                                                                                                 |\n",
    "| ------------------------ | ------------------------------------------------------------------------------------------------------------------------------------------- |\n",
    "| **JWT (JSON Web Token)** | Es un token seguro que contiene datos como el usuario y su rol. Se firma digitalmente y tiene fecha de expiración.                          |\n",
    "| **`Depends` de FastAPI** | Mecanismo para declarar dependencias (como funciones reutilizables) que pueden validar, transformar o autorizar peticiones automáticamente. |\n",
    "| **OAuth2PasswordBearer** | Clase de FastAPI que extrae automáticamente el token desde el encabezado HTTP `Authorization: Bearer <token>`.                              |\n",
    "\n",
    "---\n"
   ]
  },
  {
   "cell_type": "markdown",
   "id": "d5db134e",
   "metadata": {},
   "source": [
    "#### Paso a paso del código\n",
    "\n"
   ]
  },
  {
   "cell_type": "markdown",
   "id": "04d8e5fd",
   "metadata": {},
   "source": [
    "* **Importaciones**\n",
    "\n",
    "\n",
    "app/auth/security.py"
   ]
  },
  {
   "cell_type": "code",
   "execution_count": null,
   "id": "73a91eef",
   "metadata": {},
   "outputs": [],
   "source": [
    "from fastapi import Depends, HTTPException, status\n",
    "from fastapi.security import OAuth2PasswordBearer\n",
    "from jose import JWTError, jwt\n",
    "from app.config import SECRET_KEY, ALGORITHM"
   ]
  },
  {
   "cell_type": "markdown",
   "id": "a795fb9e",
   "metadata": {},
   "source": [
    "* **Importamos los módulos**:\n",
    "\n",
    "  * `Depends`: para inyectar funciones como dependencias.\n",
    "  * `OAuth2PasswordBearer`: para extraer el token desde el encabezado.\n",
    "  * `jwt.decode`: para leer el contenido del token.\n",
    "  * `HTTPException`: para lanzar errores controlados.\n",
    "\n",
    "---\n"
   ]
  },
  {
   "cell_type": "markdown",
   "id": "bff98c6d",
   "metadata": {},
   "source": [
    "* **Crear esquema de extracción del token**\n",
    "\n"
   ]
  },
  {
   "cell_type": "code",
   "execution_count": null,
   "id": "ca14e835",
   "metadata": {},
   "outputs": [],
   "source": [
    "oauth2_scheme = OAuth2PasswordBearer(tokenUrl=\"login\")"
   ]
  },
  {
   "cell_type": "markdown",
   "id": "095e94cf",
   "metadata": {},
   "source": [
    "* Esto configura FastAPI para esperar un token JWT en el **encabezado Authorization** usando el esquema Bearer:\n",
    "\n",
    "  ```http\n",
    "  Authorization: Bearer <token>\n",
    "  ```\n",
    "* `tokenUrl=\"login\"` le dice a FastAPI que el endpoint de autenticación (que genera el token) está en `/login`.\n",
    "\n",
    "---\n"
   ]
  },
  {
   "cell_type": "markdown",
   "id": "3071c0fe",
   "metadata": {},
   "source": [
    "* **Crear función de dependencia para obtener usuario actual**\n",
    "\n"
   ]
  },
  {
   "cell_type": "code",
   "execution_count": null,
   "id": "25ca2504",
   "metadata": {},
   "outputs": [],
   "source": [
    "def get_current_user(token: str = Depends(oauth2_scheme)):\n",
    "    try:\n",
    "        payload = jwt.decode(token, SECRET_KEY, algorithms=[ALGORITHM])\n",
    "        print(\"Payload recibido:\", payload)  # <-- Agrega esto\n",
    "        user = payload.get(\"sub\")\n",
    "        role = payload.get(\"role\")\n",
    "        print(\"user:\", user, \"role:\", role)  # <-- Agrega esto\n",
    "        if user is None or role is None:\n",
    "            raise credentials_exception()\n",
    "        return {\"username\": user, \"role\": role}\n",
    "    except JWTError:\n",
    "        raise credentials_exception()"
   ]
  },
  {
   "cell_type": "markdown",
   "id": "23e37426",
   "metadata": {},
   "source": [
    "#### ¿Qué hace esta función?\n",
    "\n",
    "1. **Extrae el token** automáticamente del encabezado usando `Depends(oauth2_scheme)`.\n",
    "2. **Decodifica** el token con la clave secreta y el algoritmo configurado.\n",
    "3. Verifica que en el `payload` haya un `sub` (username) y un `role`.\n",
    "4. Si el token es inválido o no tiene esos datos, lanza una excepción `401 Unauthorized`.\n",
    "\n",
    "> Esta función puede ser utilizada como dependencia en cualquier endpoint que requiera autenticación.\n",
    "\n",
    "---\n"
   ]
  },
  {
   "cell_type": "markdown",
   "id": "eda00f67",
   "metadata": {},
   "source": [
    "* **Manejo de errores personalizados**\n",
    "\n"
   ]
  },
  {
   "cell_type": "code",
   "execution_count": null,
   "id": "545ac722",
   "metadata": {},
   "outputs": [],
   "source": [
    "def credentials_exception():\n",
    "    return HTTPException(\n",
    "        status_code=status.HTTP_401_UNAUTHORIZED,\n",
    "        detail=\"Credenciales inválidas\",\n",
    "        headers={\"WWW-Authenticate\": \"Bearer\"},\n",
    "    )\n"
   ]
  },
  {
   "cell_type": "markdown",
   "id": "e880ce2c",
   "metadata": {},
   "source": [
    "\n",
    "* Lanza un error `401 Unauthorized` con mensaje claro.\n",
    "* El header `WWW-Authenticate` es estándar para OAuth2 y permite a clientes como SwaggerUI solicitar token nuevamente.\n",
    "\n",
    "---\n"
   ]
  },
  {
   "cell_type": "markdown",
   "id": "0cce229d",
   "metadata": {},
   "source": [
    "#### 4. **Autorización basada en roles**\n",
    "\n",
    "app/auth/roles.py"
   ]
  },
  {
   "cell_type": "code",
   "execution_count": null,
   "id": "a2f06b04",
   "metadata": {},
   "outputs": [],
   "source": [
    "from fastapi import Depends, HTTPException\n",
    "from app.auth.security import get_current_user\n",
    "\n",
    "def require_role(required_role: str):\n",
    "    def role_dependency(user: dict = Depends(get_current_user)):\n",
    "        if user[\"role\"] != required_role:\n",
    "            raise HTTPException(status_code=403, detail=\"Acceso denegado\")\n",
    "        return user\n",
    "    return role_dependency\n"
   ]
  },
  {
   "cell_type": "markdown",
   "id": "48ff3de5",
   "metadata": {},
   "source": [
    "---\n",
    "\n",
    "#### 5. **Middleware personalizado para validación de token**\n",
    "\n",
    "app/middleware/validate_token.py"
   ]
  },
  {
   "cell_type": "code",
   "execution_count": null,
   "id": "28660eec",
   "metadata": {},
   "outputs": [],
   "source": [
    "# Importamos la clase base para crear middlewares personalizados en Starlette (usado por FastAPI)\n",
    "from starlette.middleware.base import BaseHTTPMiddleware\n",
    "\n",
    "# Importamos la clase Request para manejar solicitudes HTTP en FastAPI/Starlette\n",
    "from starlette.requests import Request\n",
    "\n",
    "# Importamos JSONResponse para devolver respuestas en formato JSON\n",
    "from fastapi.responses import JSONResponse\n",
    "\n",
    "\n",
    "# Middleware personalizado para validar si un endpoint requiere token de autorización\n",
    "class ValidateTokenMiddleware(BaseHTTPMiddleware):\n",
    "\n",
    "    # El método dispatch se ejecuta cada vez que se recibe una solicitud HTTP\n",
    "    async def dispatch(self, request: Request, call_next):\n",
    "        \"\"\"\n",
    "        request: Objeto que contiene toda la información de la solicitud HTTP.\n",
    "        call_next: Función que permite pasar la solicitud al siguiente middleware o endpoint.\n",
    "        \"\"\"\n",
    "\n",
    "        # Si la ruta solicitada comienza con \"/admin\", requerimos validación de token\n",
    "        if request.url.path.startswith(\"/admin\"):\n",
    "            # Obtenemos el valor del encabezado Authorization\n",
    "            token = request.headers.get(\"Authorization\")\n",
    "\n",
    "            # Si no se envió el token en la solicitud, respondemos con un error 401 (No autorizado)\n",
    "            if token is None:\n",
    "                return JSONResponse(\n",
    "                    status_code=401,  # Código HTTP de No autorizado\n",
    "                    content={\"detail\": \"Token requerido\"}  # Mensaje de error en formato JSON\n",
    "                )\n",
    "\n",
    "        # Si la ruta no es /admin o si el token está presente, continuamos con la solicitud\n",
    "        return await call_next(request)\n"
   ]
  },
  {
   "cell_type": "markdown",
   "id": "b8b0ef59",
   "metadata": {},
   "source": [
    "---\n",
    "\n",
    "#### 6. **Ruta protegida para obtener datos del usuario**\n",
    "\n",
    "app/routers/users.py"
   ]
  },
  {
   "cell_type": "code",
   "execution_count": null,
   "id": "6f0ef354",
   "metadata": {},
   "outputs": [],
   "source": [
    "from fastapi import APIRouter, Depends\n",
    "from app.auth.security import get_current_user\n",
    "\n",
    "router = APIRouter()\n",
    "\n",
    "@router.get(\"/datos-usuario\")\n",
    "def get_user_data(current_user: dict = Depends(get_current_user)):\n",
    "    return {\"usuario_actual\": current_user[\"username\"], \"rol\": current_user[\"role\"]}\n"
   ]
  },
  {
   "cell_type": "markdown",
   "id": "ed514457",
   "metadata": {},
   "source": [
    "---\n",
    "\n",
    "#### 7. **Ruta protegida para administradores**\n",
    "\n",
    "app/routers/admin.py"
   ]
  },
  {
   "cell_type": "code",
   "execution_count": null,
   "id": "ded1a4eb",
   "metadata": {},
   "outputs": [],
   "source": [
    "from fastapi import APIRouter, Depends\n",
    "from app.auth.roles import require_role\n",
    "\n",
    "router = APIRouter()\n",
    "\n",
    "@router.get(\"/admin-data\")\n",
    "def get_admin_data(current_user=Depends(require_role(\"admin\"))):\n",
    "    return {\"msg\": \"Datos solo para administradores\"}\n"
   ]
  },
  {
   "cell_type": "markdown",
   "id": "461ae2e9",
   "metadata": {},
   "source": [
    "app/main.py"
   ]
  },
  {
   "cell_type": "code",
   "execution_count": null,
   "id": "0d007db2",
   "metadata": {},
   "outputs": [],
   "source": [
    "from fastapi import FastAPI\n",
    "from app.routers import users, admin\n",
    "from app.middleware.validate_token import ValidateTokenMiddleware\n",
    "\n",
    "app = FastAPI()\n",
    "\n",
    "# Middleware personalizado\n",
    "app.add_middleware(ValidateTokenMiddleware)\n",
    "\n",
    "# Routers\n",
    "app.include_router(users.router)\n",
    "app.include_router(admin.router)\n"
   ]
  },
  {
   "cell_type": "markdown",
   "id": "a732bb17",
   "metadata": {},
   "source": [
    "---\n",
    "\n",
    "#### 8. **Instala las dependencias**\n",
    "\n",
    "Desde la raíz del proyecto (`my_project/`), crea el archivo `requirements.txt` con lo siguiente:\n",
    "\n",
    "```txt\n",
    "fastapi\n",
    "uvicorn\n",
    "python-jose[cryptography]\n",
    "passlib[bcrypt]\n",
    "```\n",
    "\n",
    "Luego, instala todo:\n",
    "\n",
    "```bash\n",
    "pip install -r requirements.txt\n",
    "```\n",
    "\n",
    "---\n",
    "\n",
    "#### 9. **Ejecutar la aplicación**\n",
    "\n",
    "Desde la raíz del proyecto:\n",
    "\n",
    "```bash\n",
    "uvicorn app.main:app --reload\n",
    "```\n",
    "\n",
    "Esto:\n",
    "\n",
    "* Levanta el servidor en `http://127.0.0.1:8000`\n",
    "* El parámetro `--reload` reinicia el servidor automáticamente si haces cambios\n",
    "\n",
    "---\n",
    "\n",
    "#### 10. **Simular un token JWT** - simulacion.py\n",
    "\n",
    "Como aún no hay un endpoint de login real, puedes **simular un token manualmente** desde Python:\n",
    "\n",
    "\n"
   ]
  },
  {
   "cell_type": "code",
   "execution_count": null,
   "id": "73e83051",
   "metadata": {},
   "outputs": [],
   "source": [
    "# ejecuta esto en un archivo Python aparte o consola interactiva\n",
    "from jose import jwt\n",
    "from datetime import datetime, timedelta\n",
    "\n",
    "SECRET_KEY = \"clave_super_segura\"\n",
    "ALGORITHM = \"HS256\"\n",
    "\n",
    "data = {\n",
    "    \"sub\": \"juanperez\",\n",
    "    \"role\": \"admin\",  # o \"user\"\n",
    "    \"exp\": datetime.now() + timedelta(minutes=30)\n",
    "}\n",
    "\n",
    "token = jwt.encode(data, SECRET_KEY, algorithm=ALGORITHM)\n",
    "print(token)\n",
    "\n",
    "# Copiar el token generado y usarlo en Postman/Docs con:\n",
    "\n",
    "#Authorization: Bearer <token_aquí>\n",
    "\n"
   ]
  },
  {
   "cell_type": "markdown",
   "id": "cf822bf7",
   "metadata": {},
   "source": [
    "---\n",
    "\n",
    "#### 11. **Probar desde Postman**\n",
    "\n",
    "Ahora que tienes un token válido, puedes usarlo para probar tus rutas protegidas.\n",
    "\n",
    "Abre Postman y sigue estos pasos:\n",
    "\n",
    "1. Crear una solicitud `GET`\n",
    "\n",
    "Por ejemplo, para el endpoint:\n",
    "\n",
    "```\n",
    "GET http://127.0.0.1:8000/datos-usuario\n",
    "```\n",
    "\n",
    "---\n",
    "\n",
    "2. Ir a la pestaña **Authorization**\n",
    "\n",
    "* Tipo: **Bearer Token**\n",
    "* En el campo \"Token\", pega el token (solo el valor, sin escribir \"Bearer\")\n",
    "\n",
    "Ejemplo:\n",
    "\n",
    "```\n",
    "eyJhbGciOiJIUzI1NiIsInR5cCI6IkpXVCJ9...\n",
    "```\n",
    "\n",
    "---\n",
    "\n",
    "3. Haz clic en **Send**\n",
    "\n",
    "Postman enviará la petición con el token en el encabezado:\n",
    "\n",
    "```\n",
    "Authorization: Bearer <token>\n",
    "```\n",
    "\n",
    "---\n",
    "\n",
    "Resultado esperado\n",
    "\n",
    "Si el token es válido:\n",
    "\n",
    "* Respuesta 200 OK\n",
    "* Verás algo como:\n",
    "\n",
    "```json\n",
    "{\n",
    "  \"usuario_actual\": \"juanperez\",\n",
    "  \"rol\": \"admin\"\n",
    "}\n",
    "```\n",
    "\n",
    "\n"
   ]
  },
  {
   "cell_type": "markdown",
   "id": "b81c90ea",
   "metadata": {},
   "source": [
    "\n",
    "#### 12. **Pruebas que puedes hacer**\n",
    "\n",
    "| Escenario                                   | Qué probar              | Resultado esperado       |\n",
    "| ------------------------------------------- | ----------------------- | ------------------------ |\n",
    "| Acceder a `/datos-usuario` sin token        | Lanza error 401         | \"Credenciales inválidas\" |\n",
    "| Acceder a `/datos-usuario` con token válido | Devuelve username y rol | 200 OK                   |\n",
    "| Acceder a `/admin-data` con rol `admin`     | Acceso permitido        | 200 OK                   |\n",
    "| Acceder a `/admin-data` con rol `user`      | Lanza error 403         | \"Acceso denegado\"        |\n",
    "| Acceder a `/admin-data` sin token           | Middleware lanza 401    | \"Token requerido\"        |\n",
    "\n",
    "---\n"
   ]
  },
  {
   "cell_type": "markdown",
   "id": "bbb76140",
   "metadata": {},
   "source": [
    "## Buenas prácticas de seguridad\n",
    "\n",
    "| Recomendación                                    | Justificación                                              |\n",
    "| ------------------------------------------------ | ---------------------------------------------------------- |\n",
    "| Validar `exp` (expiración) del token             | Evita el uso de tokens viejos.                             |\n",
    "| Usar HTTPS en producción                         | Protege el token en tránsito.                              |\n",
    "| No incluir información sensible en el token      | El contenido de JWT puede ser leído por cualquier persona. |\n",
    "| Usar `sub`, `role`, y `exp` como claims estándar | Facilita la interoperabilidad y mantenimiento del código.  |\n",
    "\n",
    "---\n"
   ]
  }
 ],
 "metadata": {
  "kernelspec": {
   "display_name": "base",
   "language": "python",
   "name": "python3"
  },
  "language_info": {
   "codemirror_mode": {
    "name": "ipython",
    "version": 3
   },
   "file_extension": ".py",
   "mimetype": "text/x-python",
   "name": "python",
   "nbconvert_exporter": "python",
   "pygments_lexer": "ipython3",
   "version": "3.12.7"
  }
 },
 "nbformat": 4,
 "nbformat_minor": 5
}
